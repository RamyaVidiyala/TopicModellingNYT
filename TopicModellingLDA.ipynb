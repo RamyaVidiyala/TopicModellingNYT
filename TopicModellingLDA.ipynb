{
 "cells": [
  {
   "cell_type": "code",
   "execution_count": 8,
   "metadata": {},
   "outputs": [],
   "source": [
    "#https://www.kaggle.com/tumanovalexander/nyt-articles-data?select=df_2020.csv\n",
    "import pandas as pd\n",
    "\n",
    "from gensim import corpora, models\n",
    "import pandas as pd\n",
    "import gensim\n",
    "#import pyLDAvis.gensim\n",
    "import pprint"
   ]
  },
  {
   "cell_type": "code",
   "execution_count": 9,
   "metadata": {},
   "outputs": [],
   "source": [
    "pd.set_option('display.max_rows', 500)\n",
    "pd.set_option('display.max_columns', 500)\n",
    "pd.set_option('display.width', 1000)"
   ]
  },
  {
   "cell_type": "code",
   "execution_count": 10,
   "metadata": {},
   "outputs": [],
   "source": [
    "articles_df = pd.read_csv(\"df_2020.csv\").drop(\"Unnamed: 0\", axis = 1)"
   ]
  },
  {
   "cell_type": "code",
   "execution_count": 69,
   "metadata": {},
   "outputs": [
    {
     "name": "stderr",
     "output_type": "stream",
     "text": [
      "C:\\Users\\vidiyalaramya\\anaconda3\\lib\\site-packages\\ipykernel\\ipkernel.py:287: DeprecationWarning: `should_run_async` will not call `transform_cell` automatically in the future. Please pass the result to `transformed_cell` argument and any exception that happen during thetransform in `preprocessing_exc_tuple` in IPython 7.17 and above.\n",
      "  and should_run_async(code)\n"
     ]
    },
    {
     "data": {
      "text/html": [
       "<div>\n",
       "<style scoped>\n",
       "    .dataframe tbody tr th:only-of-type {\n",
       "        vertical-align: middle;\n",
       "    }\n",
       "\n",
       "    .dataframe tbody tr th {\n",
       "        vertical-align: top;\n",
       "    }\n",
       "\n",
       "    .dataframe thead th {\n",
       "        text-align: right;\n",
       "    }\n",
       "</style>\n",
       "<table border=\"1\" class=\"dataframe\">\n",
       "  <thead>\n",
       "    <tr style=\"text-align: right;\">\n",
       "      <th></th>\n",
       "      <th>year</th>\n",
       "      <th>sentence</th>\n",
       "    </tr>\n",
       "  </thead>\n",
       "  <tbody>\n",
       "    <tr>\n",
       "      <th>0</th>\n",
       "      <td>2020</td>\n",
       "      <td>The fugitive from Japan has put Lebanon in an ...</td>\n",
       "    </tr>\n",
       "    <tr>\n",
       "      <th>1</th>\n",
       "      <td>2020</td>\n",
       "      <td>Mixed reaction to the news that Maj. Gen. Qass...</td>\n",
       "    </tr>\n",
       "    <tr>\n",
       "      <th>2</th>\n",
       "      <td>2020</td>\n",
       "      <td>In bronze, silver or aluminum, a statue is an ...</td>\n",
       "    </tr>\n",
       "    <tr>\n",
       "      <th>3</th>\n",
       "      <td>2020</td>\n",
       "      <td>Also this week, holiday fireworks in Iceland a...</td>\n",
       "    </tr>\n",
       "    <tr>\n",
       "      <th>4</th>\n",
       "      <td>2020</td>\n",
       "      <td>The teenager, accused in the death of the Barn...</td>\n",
       "    </tr>\n",
       "    <tr>\n",
       "      <th>...</th>\n",
       "      <td>...</td>\n",
       "      <td>...</td>\n",
       "    </tr>\n",
       "    <tr>\n",
       "      <th>69114</th>\n",
       "      <td>2020</td>\n",
       "      <td>During his rally in Newtown, Pa., on Saturday,...</td>\n",
       "    </tr>\n",
       "    <tr>\n",
       "      <th>69115</th>\n",
       "      <td>2020</td>\n",
       "      <td>A magnitude-7.0 quake that struck in the Aegea...</td>\n",
       "    </tr>\n",
       "    <tr>\n",
       "      <th>69116</th>\n",
       "      <td>2020</td>\n",
       "      <td>Former President Barack Obama on Saturday join...</td>\n",
       "    </tr>\n",
       "    <tr>\n",
       "      <th>69117</th>\n",
       "      <td>2020</td>\n",
       "      <td>Prime Minister Boris Johnson announced expansi...</td>\n",
       "    </tr>\n",
       "    <tr>\n",
       "      <th>69118</th>\n",
       "      <td>2020</td>\n",
       "      <td>“Mr. Trump presented himself as a class traito...</td>\n",
       "    </tr>\n",
       "  </tbody>\n",
       "</table>\n",
       "<p>69119 rows × 2 columns</p>\n",
       "</div>"
      ],
      "text/plain": [
       "       year                                           sentence\n",
       "0      2020  The fugitive from Japan has put Lebanon in an ...\n",
       "1      2020  Mixed reaction to the news that Maj. Gen. Qass...\n",
       "2      2020  In bronze, silver or aluminum, a statue is an ...\n",
       "3      2020  Also this week, holiday fireworks in Iceland a...\n",
       "4      2020  The teenager, accused in the death of the Barn...\n",
       "...     ...                                                ...\n",
       "69114  2020  During his rally in Newtown, Pa., on Saturday,...\n",
       "69115  2020  A magnitude-7.0 quake that struck in the Aegea...\n",
       "69116  2020  Former President Barack Obama on Saturday join...\n",
       "69117  2020  Prime Minister Boris Johnson announced expansi...\n",
       "69118  2020  “Mr. Trump presented himself as a class traito...\n",
       "\n",
       "[69119 rows x 2 columns]"
      ]
     },
     "execution_count": 69,
     "metadata": {},
     "output_type": "execute_result"
    }
   ],
   "source": [
    "articles_df"
   ]
  },
  {
   "cell_type": "markdown",
   "metadata": {},
   "source": [
    "1. Preprocess\n",
    "2. Process: tokenize, lemmatization\n",
    "3. LDA/ NMF"
   ]
  },
  {
   "cell_type": "markdown",
   "metadata": {},
   "source": [
    "# Preprocess"
   ]
  },
  {
   "cell_type": "code",
   "execution_count": 71,
   "metadata": {},
   "outputs": [
    {
     "name": "stderr",
     "output_type": "stream",
     "text": [
      "C:\\Users\\vidiyalaramya\\anaconda3\\lib\\site-packages\\ipykernel\\ipkernel.py:287: DeprecationWarning: `should_run_async` will not call `transform_cell` automatically in the future. Please pass the result to `transformed_cell` argument and any exception that happen during thetransform in `preprocessing_exc_tuple` in IPython 7.17 and above.\n",
      "  and should_run_async(code)\n"
     ]
    }
   ],
   "source": [
    "from gensim.parsing.preprocessing import preprocess_string\n",
    "articles_df['preprocessed_sentence'] = articles_df.sentence.apply(preprocess_string)\n"
   ]
  },
  {
   "cell_type": "code",
   "execution_count": 89,
   "metadata": {},
   "outputs": [
    {
     "name": "stdout",
     "output_type": "stream",
     "text": [
      "Mixed reaction to the news that Maj. Gen. Qassim Suleimani died in a targeted strike by the United States at Baghdad International Airport. Killing of Iranian Commander Is Met With Criticism and Tough Talk\n",
      "['mix', 'reaction', 'new', 'maj', 'gen', 'qassim', 'suleimani', 'di', 'target', 'strike', 'unit', 'state', 'baghdad', 'intern', 'airport', 'kill', 'iranian', 'command', 'met', 'critic', 'tough', 'talk']\n"
     ]
    },
    {
     "name": "stderr",
     "output_type": "stream",
     "text": [
      "C:\\Users\\vidiyalaramya\\anaconda3\\lib\\site-packages\\ipykernel\\ipkernel.py:287: DeprecationWarning: `should_run_async` will not call `transform_cell` automatically in the future. Please pass the result to `transformed_cell` argument and any exception that happen during thetransform in `preprocessing_exc_tuple` in IPython 7.17 and above.\n",
      "  and should_run_async(code)\n"
     ]
    }
   ],
   "source": [
    "print(articles_df.sentence[1])\n",
    "print(articles_df.preprocessed_sentence[1])"
   ]
  },
  {
   "cell_type": "code",
   "execution_count": 72,
   "metadata": {},
   "outputs": [
    {
     "name": "stderr",
     "output_type": "stream",
     "text": [
      "C:\\Users\\vidiyalaramya\\anaconda3\\lib\\site-packages\\ipykernel\\ipkernel.py:287: DeprecationWarning: `should_run_async` will not call `transform_cell` automatically in the future. Please pass the result to `transformed_cell` argument and any exception that happen during thetransform in `preprocessing_exc_tuple` in IPython 7.17 and above.\n",
      "  and should_run_async(code)\n"
     ]
    },
    {
     "data": {
      "text/html": [
       "<div>\n",
       "<style scoped>\n",
       "    .dataframe tbody tr th:only-of-type {\n",
       "        vertical-align: middle;\n",
       "    }\n",
       "\n",
       "    .dataframe tbody tr th {\n",
       "        vertical-align: top;\n",
       "    }\n",
       "\n",
       "    .dataframe thead th {\n",
       "        text-align: right;\n",
       "    }\n",
       "</style>\n",
       "<table border=\"1\" class=\"dataframe\">\n",
       "  <thead>\n",
       "    <tr style=\"text-align: right;\">\n",
       "      <th></th>\n",
       "      <th>year</th>\n",
       "      <th>sentence</th>\n",
       "      <th>preprocessed_sentence</th>\n",
       "    </tr>\n",
       "  </thead>\n",
       "  <tbody>\n",
       "    <tr>\n",
       "      <th>0</th>\n",
       "      <td>2020</td>\n",
       "      <td>The fugitive from Japan has put Lebanon in an ...</td>\n",
       "      <td>[fugit, japan, lebanon, awkward, posit, carlo,...</td>\n",
       "    </tr>\n",
       "    <tr>\n",
       "      <th>1</th>\n",
       "      <td>2020</td>\n",
       "      <td>Mixed reaction to the news that Maj. Gen. Qass...</td>\n",
       "      <td>[mix, reaction, new, maj, gen, qassim, suleima...</td>\n",
       "    </tr>\n",
       "    <tr>\n",
       "      <th>2</th>\n",
       "      <td>2020</td>\n",
       "      <td>In bronze, silver or aluminum, a statue is an ...</td>\n",
       "      <td>[bronz, silver, aluminum, statu, idea, solid, ...</td>\n",
       "    </tr>\n",
       "    <tr>\n",
       "      <th>3</th>\n",
       "      <td>2020</td>\n",
       "      <td>Also this week, holiday fireworks in Iceland a...</td>\n",
       "      <td>[week, holidai, firework, iceland, thing, new,...</td>\n",
       "    </tr>\n",
       "    <tr>\n",
       "      <th>4</th>\n",
       "      <td>2020</td>\n",
       "      <td>The teenager, accused in the death of the Barn...</td>\n",
       "      <td>[teenag, accus, death, barnard, student, exhib...</td>\n",
       "    </tr>\n",
       "  </tbody>\n",
       "</table>\n",
       "</div>"
      ],
      "text/plain": [
       "   year                                           sentence                              preprocessed_sentence\n",
       "0  2020  The fugitive from Japan has put Lebanon in an ...  [fugit, japan, lebanon, awkward, posit, carlo,...\n",
       "1  2020  Mixed reaction to the news that Maj. Gen. Qass...  [mix, reaction, new, maj, gen, qassim, suleima...\n",
       "2  2020  In bronze, silver or aluminum, a statue is an ...  [bronz, silver, aluminum, statu, idea, solid, ...\n",
       "3  2020  Also this week, holiday fireworks in Iceland a...  [week, holidai, firework, iceland, thing, new,...\n",
       "4  2020  The teenager, accused in the death of the Barn...  [teenag, accus, death, barnard, student, exhib..."
      ]
     },
     "execution_count": 72,
     "metadata": {},
     "output_type": "execute_result"
    }
   ],
   "source": [
    "articles_df.head()"
   ]
  },
  {
   "cell_type": "markdown",
   "metadata": {},
   "source": [
    "## LDA"
   ]
  },
  {
   "cell_type": "code",
   "execution_count": 90,
   "metadata": {
    "scrolled": false
   },
   "outputs": [
    {
     "name": "stderr",
     "output_type": "stream",
     "text": [
      "C:\\Users\\vidiyalaramya\\anaconda3\\lib\\site-packages\\ipykernel\\ipkernel.py:287: DeprecationWarning: `should_run_async` will not call `transform_cell` automatically in the future. Please pass the result to `transformed_cell` argument and any exception that happen during thetransform in `preprocessing_exc_tuple` in IPython 7.17 and above.\n",
      "  and should_run_async(code)\n"
     ]
    }
   ],
   "source": [
    "dictionary = corpora.Dictionary(articles_df['preprocessed_sentence'] )\n",
    "\n",
    "corpus = [dictionary.doc2bow(text) for text in articles_df['preprocessed_sentence'] ]"
   ]
  },
  {
   "cell_type": "code",
   "execution_count": 93,
   "metadata": {},
   "outputs": [
    {
     "name": "stdout",
     "output_type": "stream",
     "text": [
      "Dictionary(37471 unique tokens: ['awkward', 'carlo', 'fugit', 'ghosn', 'home']...)\n",
      "[(21, 2), (78, 2), (80, 1), (148, 1), (149, 1), (150, 1), (151, 1), (152, 1), (153, 1), (154, 1), (155, 1)]\n"
     ]
    },
    {
     "name": "stderr",
     "output_type": "stream",
     "text": [
      "C:\\Users\\vidiyalaramya\\anaconda3\\lib\\site-packages\\ipykernel\\ipkernel.py:287: DeprecationWarning: `should_run_async` will not call `transform_cell` automatically in the future. Please pass the result to `transformed_cell` argument and any exception that happen during thetransform in `preprocessing_exc_tuple` in IPython 7.17 and above.\n",
      "  and should_run_async(code)\n"
     ]
    }
   ],
   "source": [
    "print(dictionary)\n",
    "print(corpus[10])"
   ]
  },
  {
   "cell_type": "code",
   "execution_count": 113,
   "metadata": {},
   "outputs": [
    {
     "name": "stderr",
     "output_type": "stream",
     "text": [
      "C:\\Users\\vidiyalaramya\\anaconda3\\lib\\site-packages\\ipykernel\\ipkernel.py:287: DeprecationWarning: `should_run_async` will not call `transform_cell` automatically in the future. Please pass the result to `transformed_cell` argument and any exception that happen during thetransform in `preprocessing_exc_tuple` in IPython 7.17 and above.\n",
      "  and should_run_async(code)\n"
     ]
    },
    {
     "data": {
      "text/plain": [
       "15"
      ]
     },
     "execution_count": 113,
     "metadata": {},
     "output_type": "execute_result"
    }
   ],
   "source": [
    "ldamodel.num_topics"
   ]
  },
  {
   "cell_type": "code",
   "execution_count": 116,
   "metadata": {},
   "outputs": [
    {
     "name": "stdout",
     "output_type": "stream",
     "text": [
      "(1, '0.062*\"trump\" + 0.061*\"elect\" + 0.056*\"biden\" + 0.046*\"presid\" + 0.037*\"democrat\" + 0.036*\"vote\" + 0.028*\"republican\" + 0.025*\"campaign\" + 0.024*\"debat\" + 0.024*\"presidenti\"')\n",
      "(5, '0.047*\"court\" + 0.030*\"polic\" + 0.026*\"suprem\" + 0.025*\"dai\" + 0.023*\"justic\" + 0.022*\"protest\" + 0.022*\"offic\" + 0.020*\"said\" + 0.018*\"charg\" + 0.018*\"kill\"')\n",
      "(6, '0.016*\"convent\" + 0.014*\"american\" + 0.014*\"vice\" + 0.013*\"war\" + 0.012*\"economi\" + 0.012*\"player\" + 0.011*\"year\" + 0.011*\"surg\" + 0.009*\"forc\" + 0.009*\"unit\"')\n",
      "(7, '0.028*\"chang\" + 0.018*\"econom\" + 0.017*\"compani\" + 0.017*\"tax\" + 0.015*\"climat\" + 0.015*\"restrict\" + 0.014*\"mean\" + 0.013*\"conserv\" + 0.012*\"count\" + 0.012*\"mondai\"')\n",
      "(9, '0.023*\"ballot\" + 0.016*\"book\" + 0.015*\"di\" + 0.011*\"storm\" + 0.011*\"american\" + 0.010*\"hurrican\" + 0.010*\"short\" + 0.010*\"design\" + 0.010*\"week\" + 0.009*\"time\"')\n",
      "(10, '0.068*\"coronaviru\" + 0.052*\"pandem\" + 0.028*\"viru\" + 0.021*\"covid\" + 0.019*\"health\" + 0.016*\"case\" + 0.015*\"new\" + 0.013*\"peopl\" + 0.013*\"state\" + 0.012*\"worker\"')\n",
      "(11, '0.030*\"mask\" + 0.027*\"home\" + 0.019*\"past\" + 0.018*\"hous\" + 0.017*\"word\" + 0.017*\"year\" + 0.015*\"california\" + 0.015*\"cut\" + 0.015*\"counti\" + 0.014*\"wear\"')\n",
      "(12, '0.070*\"need\" + 0.058*\"know\" + 0.048*\"here’\" + 0.039*\"brief\" + 0.025*\"todai\" + 0.022*\"dai\" + 0.022*\"barrett\" + 0.021*\"end\" + 0.021*\"happen\" + 0.016*\"doctor\"')\n",
      "(13, '0.109*\"new\" + 0.042*\"york\" + 0.029*\"citi\" + 0.014*\"time\" + 0.014*\"art\" + 0.013*\"fall\" + 0.011*\"home\" + 0.010*\"work\" + 0.010*\"bring\" + 0.010*\"outbreak\"')\n",
      "(14, '0.022*\"new\" + 0.019*\"plai\" + 0.017*\"season\" + 0.014*\"game\" + 0.014*\"review\" + 0.014*\"star\" + 0.012*\"seri\" + 0.011*\"colleg\" + 0.011*\"world\" + 0.010*\"mail\"')\n"
     ]
    },
    {
     "name": "stderr",
     "output_type": "stream",
     "text": [
      "C:\\Users\\vidiyalaramya\\anaconda3\\lib\\site-packages\\ipykernel\\ipkernel.py:287: DeprecationWarning: `should_run_async` will not call `transform_cell` automatically in the future. Please pass the result to `transformed_cell` argument and any exception that happen during thetransform in `preprocessing_exc_tuple` in IPython 7.17 and above.\n",
      "  and should_run_async(code)\n"
     ]
    }
   ],
   "source": [
    "for i in sorted(ldamodel.show_topics()):\n",
    "    print(i)"
   ]
  },
  {
   "cell_type": "code",
   "execution_count": 41,
   "metadata": {
    "scrolled": true
   },
   "outputs": [
    {
     "name": "stderr",
     "output_type": "stream",
     "text": [
      "C:\\Users\\vidiyalaramya\\anaconda3\\lib\\site-packages\\ipykernel\\ipkernel.py:287: DeprecationWarning: `should_run_async` will not call `transform_cell` automatically in the future. Please pass the result to `transformed_cell` argument and any exception that happen during thetransform in `preprocessing_exc_tuple` in IPython 7.17 and above.\n",
      "  and should_run_async(code)\n"
     ]
    },
    {
     "name": "stdout",
     "output_type": "stream",
     "text": [
      "[([(0.07039017, 'need'),\n",
      "   (0.057538357, 'know'),\n",
      "   (0.04804854, 'here’'),\n",
      "   (0.038630437, 'brief'),\n",
      "   (0.024601238, 'todai')],\n",
      "  -1.6777706374083934),\n",
      " ([(0.062052768, 'trump'),\n",
      "   (0.06121407, 'elect'),\n",
      "   (0.05563199, 'biden'),\n",
      "   (0.046005297, 'presid'),\n",
      "   (0.036730982, 'democrat')],\n",
      "  -1.8577159314179355),\n",
      " ([(0.06787103, 'coronaviru'),\n",
      "   (0.051518332, 'pandem'),\n",
      "   (0.027528659, 'viru'),\n",
      "   (0.02076319, 'covid'),\n",
      "   (0.019217193, 'health')],\n",
      "  -2.683152065177709),\n",
      " ([(0.10868625, 'new'),\n",
      "   (0.042001702, 'york'),\n",
      "   (0.02911923, 'citi'),\n",
      "   (0.014243036, 'time'),\n",
      "   (0.013551411, 'art')],\n",
      "  -2.779750096305874),\n",
      " ([(0.047998965, 'trump'),\n",
      "   (0.035624437, 'presid'),\n",
      "   (0.02752953, 'hous'),\n",
      "   (0.022594068, 'result'),\n",
      "   (0.01692287, 'test')],\n",
      "  -2.891392751875528),\n",
      " ([(0.046641827, 'court'),\n",
      "   (0.030484917, 'polic'),\n",
      "   (0.026292605, 'suprem'),\n",
      "   (0.02513503, 'dai'),\n",
      "   (0.02334647, 'justic')],\n",
      "  -3.037902712346283),\n",
      " ([(0.026856963, 'black'),\n",
      "   (0.018777303, 'help'),\n",
      "   (0.014873572, 'peopl'),\n",
      "   (0.014468982, 'like'),\n",
      "   (0.014468123, 'women')],\n",
      "  -3.2350066004905207),\n",
      " ([(0.04203023, 'year'),\n",
      "   (0.019413084, 'old'),\n",
      "   (0.018760644, 'student'),\n",
      "   (0.016900703, 'school'),\n",
      "   (0.014945578, 'good')],\n",
      "  -3.443929425126767),\n",
      " ([(0.023073744, 'poll'),\n",
      "   (0.023033679, 'social'),\n",
      "   (0.020233475, 'joseph'),\n",
      "   (0.016748665, 'ralli'),\n",
      "   (0.015234429, 'support')],\n",
      "  -3.4613324173360773),\n",
      " ([(0.021825729, 'new'),\n",
      "   (0.01913374, 'plai'),\n",
      "   (0.016887894, 'season'),\n",
      "   (0.014336315, 'game'),\n",
      "   (0.014000409, 'review')],\n",
      "  -3.5475905316937926),\n",
      " ([(0.022364998, 'stori'),\n",
      "   (0.02152432, 'love'),\n",
      "   (0.020104388, 'watch'),\n",
      "   (0.015102439, 'time'),\n",
      "   (0.01490944, 'summer')],\n",
      "  -3.6323611147254384),\n",
      " ([(0.027601602, 'chang'),\n",
      "   (0.018130664, 'econom'),\n",
      "   (0.017291078, 'compani'),\n",
      "   (0.017138762, 'tax'),\n",
      "   (0.015450691, 'climat')],\n",
      "  -3.6391601975376027),\n",
      " ([(0.016356653, 'convent'),\n",
      "   (0.01398098, 'american'),\n",
      "   (0.013959685, 'vice'),\n",
      "   (0.013212651, 'war'),\n",
      "   (0.012177685, 'economi')],\n",
      "  -4.176111649704746),\n",
      " ([(0.030482285, 'mask'),\n",
      "   (0.027063778, 'home'),\n",
      "   (0.018787881, 'past'),\n",
      "   (0.01794279, 'hous'),\n",
      "   (0.017444389, 'word')],\n",
      "  -4.2455732642815205),\n",
      " ([(0.023413723, 'ballot'),\n",
      "   (0.015612737, 'book'),\n",
      "   (0.014840085, 'di'),\n",
      "   (0.010795106, 'storm'),\n",
      "   (0.01066139, 'american')],\n",
      "  -9.607897778236193)]\n"
     ]
    }
   ],
   "source": [
    "ldamodel = gensim.models.ldamodel.LdaModel(bow_corpus, num_topics=15, id2word = dictionary, passes=20)\n",
    "pprint.pprint(ldamodel.top_topics(corpus,topn=5))"
   ]
  },
  {
   "cell_type": "code",
   "execution_count": 47,
   "metadata": {},
   "outputs": [
    {
     "name": "stderr",
     "output_type": "stream",
     "text": [
      "C:\\Users\\vidiyalaramya\\anaconda3\\lib\\site-packages\\ipykernel\\ipkernel.py:287: DeprecationWarning: `should_run_async` will not call `transform_cell` automatically in the future. Please pass the result to `transformed_cell` argument and any exception that happen during thetransform in `preprocessing_exc_tuple` in IPython 7.17 and above.\n",
      "  and should_run_async(code)\n"
     ]
    },
    {
     "ename": "ModuleNotFoundError",
     "evalue": "No module named 'pyLDAvis.gensim'",
     "output_type": "error",
     "traceback": [
      "\u001b[1;31m---------------------------------------------------------------------------\u001b[0m",
      "\u001b[1;31mModuleNotFoundError\u001b[0m                       Traceback (most recent call last)",
      "\u001b[1;32m<ipython-input-47-69bbdc7a766d>\u001b[0m in \u001b[0;36m<module>\u001b[1;34m\u001b[0m\n\u001b[0;32m      1\u001b[0m \u001b[0mget_ipython\u001b[0m\u001b[1;33m(\u001b[0m\u001b[1;33m)\u001b[0m\u001b[1;33m.\u001b[0m\u001b[0mrun_line_magic\u001b[0m\u001b[1;33m(\u001b[0m\u001b[1;34m'matplotlib'\u001b[0m\u001b[1;33m,\u001b[0m \u001b[1;34m'inline'\u001b[0m\u001b[1;33m)\u001b[0m\u001b[1;33m\u001b[0m\u001b[1;33m\u001b[0m\u001b[0m\n\u001b[0;32m      2\u001b[0m \u001b[1;32mimport\u001b[0m \u001b[0mpyLDAvis\u001b[0m\u001b[1;33m\u001b[0m\u001b[1;33m\u001b[0m\u001b[0m\n\u001b[1;32m----> 3\u001b[1;33m \u001b[1;32mimport\u001b[0m \u001b[0mpyLDAvis\u001b[0m\u001b[1;33m.\u001b[0m\u001b[0mgensim\u001b[0m\u001b[1;33m\u001b[0m\u001b[1;33m\u001b[0m\u001b[0m\n\u001b[0m\u001b[0;32m      4\u001b[0m \u001b[0mvis\u001b[0m \u001b[1;33m=\u001b[0m \u001b[0mpyLDAvis\u001b[0m\u001b[1;33m.\u001b[0m\u001b[0mgensim\u001b[0m\u001b[1;33m.\u001b[0m\u001b[0mprepare\u001b[0m\u001b[1;33m(\u001b[0m\u001b[0mtopic_model\u001b[0m\u001b[1;33m=\u001b[0m\u001b[0mldamodel\u001b[0m\u001b[1;33m,\u001b[0m \u001b[0mcorpus\u001b[0m\u001b[1;33m=\u001b[0m\u001b[0mcorpus\u001b[0m\u001b[1;33m,\u001b[0m \u001b[0mdictionary\u001b[0m\u001b[1;33m=\u001b[0m\u001b[0mdictionary\u001b[0m\u001b[1;33m)\u001b[0m\u001b[1;33m\u001b[0m\u001b[1;33m\u001b[0m\u001b[0m\n\u001b[0;32m      5\u001b[0m \u001b[0mpyLDAvis\u001b[0m\u001b[1;33m.\u001b[0m\u001b[0menable_notebook\u001b[0m\u001b[1;33m(\u001b[0m\u001b[1;33m)\u001b[0m\u001b[1;33m\u001b[0m\u001b[1;33m\u001b[0m\u001b[0m\n",
      "\u001b[1;31mModuleNotFoundError\u001b[0m: No module named 'pyLDAvis.gensim'"
     ]
    }
   ],
   "source": [
    "%matplotlib inline\n",
    "import pyLDAvis\n",
    "import pyLDAvis.gensim\n",
    "vis = pyLDAvis.gensim.prepare(topic_model=ldamodel, corpus=corpus, dictionary=dictionary)\n",
    "pyLDAvis.enable_notebook()\n",
    "pyLDAvis.display(vis)"
   ]
  },
  {
   "cell_type": "code",
   "execution_count": 48,
   "metadata": {},
   "outputs": [
    {
     "name": "stderr",
     "output_type": "stream",
     "text": [
      "C:\\Users\\vidiyalaramya\\anaconda3\\lib\\site-packages\\ipykernel\\ipkernel.py:287: DeprecationWarning: `should_run_async` will not call `transform_cell` automatically in the future. Please pass the result to `transformed_cell` argument and any exception that happen during thetransform in `preprocessing_exc_tuple` in IPython 7.17 and above.\n",
      "  and should_run_async(code)\n"
     ]
    },
    {
     "data": {
      "text/html": [
       "\n",
       "<link rel=\"stylesheet\" type=\"text/css\" href=\"https://cdn.jsdelivr.net/gh/bmabey/pyLDAvis@3.3.1/pyLDAvis/js/ldavis.v1.0.0.css\">\n",
       "\n",
       "\n",
       "<div id=\"ldavis_el712418678060838888559141473\"></div>\n",
       "<script type=\"text/javascript\">\n",
       "\n",
       "var ldavis_el712418678060838888559141473_data = {\"mdsDat\": {\"x\": [0.01606263432835427, 0.23365524497494863, -0.15499027908785395, -0.14862213855797823, -0.13636436222502307, 0.11633128001183007, 0.1807341606170171, 0.17604255696165227, -0.15006234323929818, 0.029303574140019148, -0.1784742669921871, -0.11915888388851985, 0.026302866474658147, 0.03634850618301804, 0.07289145029936282], \"y\": [0.10309794417994941, 0.1384762426713826, 0.08678850609727584, -0.021405096049559744, 0.09466623656603489, 0.08171686595686864, 0.0946586020298724, -0.0852863751341085, 0.009253190444227146, 0.0695922905201789, -0.06158704394255088, 0.014229913668062071, 0.05218860211847284, -0.2260790933244868, -0.3503107858016188], \"topics\": [1, 2, 3, 4, 5, 6, 7, 8, 9, 10, 11, 12, 13, 14, 15], \"cluster\": [1, 1, 1, 1, 1, 1, 1, 1, 1, 1, 1, 1, 1, 1, 1], \"Freq\": [10.941664211859187, 9.981754255902086, 9.213369433693845, 7.622266369113323, 7.101315182324984, 6.726339386006471, 6.621420733644243, 6.322212145996985, 5.890266069778137, 5.847082318270162, 5.474683658925554, 5.208904453419034, 5.1222751896390815, 4.12431002086024, 3.802136570566681]}, \"tinfo\": {\"Term\": [\"new\", \"trump\", \"coronaviru\", \"pandem\", \"presid\", \"elect\", \"biden\", \"need\", \"york\", \"court\", \"year\", \"know\", \"hous\", \"viru\", \"democrat\", \"vote\", \"here\\u2019\", \"citi\", \"dai\", \"polic\", \"result\", \"black\", \"home\", \"republican\", \"covid\", \"brief\", \"case\", \"said\", \"health\", \"chang\", \"coronaviru\", \"pandem\", \"viru\", \"covid\", \"health\", \"worker\", \"posit\", \"spread\", \"reopen\", \"hospit\", \"lockdown\", \"crisi\", \"infect\", \"mayor\", \"wisconsin\", \"percent\", \"quarantin\", \"googl\", \"stock\", \"hong\", \"employe\", \"shut\", \"refus\", \"attornei\", \"reject\", \"kong\", \"toll\", \"china\\u2019\", \"teach\", \"creativ\", \"busi\", \"resid\", \"market\", \"number\", \"case\", \"tech\", \"risk\", \"rate\", \"peopl\", \"countri\", \"public\", \"state\", \"china\", \"death\", \"new\", \"face\", \"close\", \"million\", \"offici\", \"result\", \"district\", \"feder\", \"texa\", \"aid\", \"president\\u2019\", \"administr\", \"washington\", \"accord\", \"congression\", \"russian\", \"congress\", \"prime\", \"minist\", \"advis\", \"secretari\", \"seat\", \"block\", \"detail\", \"isol\", \"lawmak\", \"grand\", \"state\\u2019\", \"divid\", \"map\", \"novemb\", \"lack\", \"disput\", \"blame\", \"migrant\", \"vaccin\", \"hous\", \"white\", \"test\", \"racial\", \"trump\", \"presid\", \"trump\\u2019\", \"secur\", \"chief\", \"leader\", \"sai\", \"said\", \"california\", \"offici\", \"state\", \"govern\", \"call\", \"elect\", \"critic\", \"nation\", \"polit\", \"expert\", \"plai\", \"season\", \"game\", \"star\", \"colleg\", \"mail\", \"film\", \"music\", \"real\", \"theater\", \"movi\", \"sport\", \"leagu\", \"stream\", \"career\", \"documentari\", \"arizona\", \"footbal\", \"actor\", \"debut\", \"netflix\", \"rememb\", \"liber\", \"estat\", \"audienc\", \"pro\", \"excerpt\", \"titl\", \"origin\", \"horror\", \"seri\", \"\\u2018the\", \"team\", \"review\", \"what\\u2019\", \"david\", \"perform\", \"\\u201cthe\", \"world\", \"new\", \"role\", \"return\", \"final\", \"win\", \"year\", \"di\", \"look\", \"time\", \"like\", \"life\", \"york\", \"art\", \"fall\", \"bring\", \"outbreak\", \"lesson\", \"museum\", \"local\", \"street\", \"russia\", \"wave\", \"space\", \"gather\", \"journalist\", \"began\", \"yorker\", \"wed\", \"crowd\", \"paint\", \"spring\", \"paid\", \"heat\", \"septemb\", \"halt\", \"fact\", \"photograph\", \"profession\", \"lift\", \"hotel\", \"water\", \"citi\", \"check\", \"new\", \"figur\", \"artist\", \"staff\", \"save\", \"time\", \"home\", \"work\", \"week\", \"dai\", \"build\", \"look\", \"record\", \"live\", \"don\\u2019t\", \"confirm\", \"wildfir\", \"nomin\", \"biden\\u2019\", \"data\", \"kid\", \"tiktok\", \"educ\", \"award\", \"color\", \"they\\u2019r\", \"coach\", \"prize\", \"club\", \"search\", \"enforc\", \"success\", \"shop\", \"understand\", \"alabama\", \"advic\", \"trace\", \"object\", \"equal\", \"earlier\", \"easi\", \"analysi\", \"chef\", \"difficult\", \"black\", \"women\", \"learn\", \"hear\", \"mother\", \"parent\", \"hard\", \"children\", \"help\", \"find\", \"receiv\", \"better\", \"wai\", \"famili\", \"share\", \"young\", \"studi\", \"like\", \"peopl\", \"it\\u2019\", \"work\", \"expert\", \"get\", \"time\", \"american\", \"school\", \"fight\", \"convent\", \"vice\", \"war\", \"economi\", \"player\", \"fan\", \"penc\", \"deliv\", \"delai\", \"immigr\", \"clash\", \"taylor\", \"half\", \"capit\", \"peac\", \"arm\", \"conflict\", \"labor\", \"camp\", \"israel\", \"sound\", \"fly\", \"san\", \"iran\", \"basebal\", \"predict\", \"reviv\", \"edg\", \"rebound\", \"rai\", \"surg\", \"oper\", \"mike\", \"project\", \"militari\", \"forc\", \"nearli\", \"unit\", \"american\", \"year\", \"nation\", \"major\", \"state\", \"countri\", \"kill\", \"said\", \"biden\", \"democrat\", \"vote\", \"republican\", \"presidenti\", \"primari\", \"voter\", \"race\", \"joe\", \"candid\", \"carolina\", \"nomine\", \"donald\", \"victori\", \"obama\", \"mind\", \"lower\", \"endors\", \"unemploy\", \"contest\", \"podcast\", \"latino\", \"august\", \"afford\", \"elector\", \"choic\", \"defeat\", \"cash\", \"renew\", \"advertis\", \"debat\", \"campaign\", \"elect\", \"senat\", \"ami\", \"trump\", \"presid\", \"parti\", \"polit\", \"win\", \"trump\\u2019\", \"night\", \"state\", \"final\", \"live\", \"time\", \"dai\", \"nation\", \"court\", \"polic\", \"suprem\", \"justic\", \"charg\", \"judg\", \"accus\", \"correct\", \"quotat\", \"oct\", \"violenc\", \"shoot\", \"print\", \"georgia\", \"murder\", \"prosecutor\", \"legal\", \"prison\", \"lawsuit\", \"democraci\", \"lawyer\", \"appeal\", \"abus\", \"sexual\", \"sept\", \"sentenc\", \"suspect\", \"recip\", \"convict\", \"part\", \"offic\", \"protest\", \"shot\", \"kill\", \"man\", \"appear\", \"rule\", \"dai\", \"saturdai\", \"said\", \"law\", \"case\", \"death\", \"investig\", \"black\", \"mondai\", \"year\", \"old\", \"good\", \"met\", \"ago\", \"later\", \"class\", \"fashion\", \"johnson\", \"child\", \"convers\", \"son\", \"date\", \"diseas\", \"moder\", \"secret\", \"remot\", \"comment\", \"i\\u2019m\", \"coupl\", \"octob\", \"outdoor\", \"tale\", \"mysteri\", \"hire\", \"box\", \"wife\", \"incom\", \"classroom\", \"portland\", \"retail\", \"woman\", \"student\", \"year\", \"research\", \"school\", \"write\", \"connect\", \"right\", \"friend\", \"di\", \"experi\", \"feel\", \"arrest\", \"life\", \"test\", \"famili\", \"work\", \"new\", \"poll\", \"social\", \"joseph\", \"ralli\", \"media\", \"event\", \"onlin\", \"kamala\", \"virtual\", \"facebook\", \"urg\", \"host\", \"answer\", \"twitter\", \"interview\", \"distanc\", \"foreign\", \"handl\", \"largest\", \"network\", \"crucial\", \"theori\", \"internet\", \"assault\", \"sent\", \"abort\", \"normal\", \"embrac\", \"racist\", \"describ\", \"florida\", \"support\", \"video\", \"care\", \"harri\", \"ahead\", \"group\", \"question\", \"show\", \"person\", \"call\", \"said\", \"differ\", \"right\", \"compani\", \"love\", \"summer\", \"weekend\", \"late\", \"park\", \"featur\", \"outsid\", \"georg\", \"cook\", \"popular\", \"honor\", \"girl\", \"favorit\", \"fatal\", \"trail\", \"father\", \"ohio\", \"comedi\", \"road\", \"hill\", \"select\", \"burn\", \"colleagu\", \"plant\", \"screen\", \"catch\", \"festiv\", \"dark\", \"true\", \"floyd\", \"french\", \"stori\", \"watch\", \"read\", \"night\", \"book\", \"celebr\", \"tell\", \"inspir\", \"time\", \"near\", \"new\", \"home\", \"week\", \"open\", \"offer\", \"dai\", \"ballot\", \"storm\", \"hurrican\", \"short\", \"pennsylvania\", \"bar\", \"letter\", \"robert\", \"wall\", \"hall\", \"editor\", \"coast\", \"schedul\", \"juli\", \"influenc\", \"gun\", \"african\", \"recommend\", \"cours\", \"pelosi\", \"speaker\", \"promot\", \"june\", \"deep\", \"winner\", \"statu\", \"pack\", \"weather\", \"louisiana\", \"italian\", \"franc\", \"activist\", \"design\", \"book\", \"cancel\", \"di\", \"british\", \"jame\", \"hand\", \"list\", \"john\", \"american\", \"week\", \"time\", \"help\", \"critic\", \"turn\", \"econom\", \"tax\", \"climat\", \"restrict\", \"mean\", \"conserv\", \"count\", \"industri\", \"agenc\", \"bank\", \"measur\", \"serv\", \"main\", \"reason\", \"committe\", \"oil\", \"slow\", \"bad\", \"comfort\", \"form\", \"investor\", \"damag\", \"dog\", \"eastern\", \"fast\", \"current\", \"actual\", \"rang\", \"reduc\", \"hurt\", \"chang\", \"spend\", \"worri\", \"compani\", \"ban\", \"monei\", \"mondai\", \"problem\", \"expect\", \"issu\", \"travel\", \"effect\", \"avoid\", \"rule\", \"plan\", \"deal\", \"mask\", \"cut\", \"counti\", \"wear\", \"michigan\", \"angel\", \"benefit\", \"lo\", \"tip\", \"loss\", \"style\", \"recoveri\", \"morn\", \"red\", \"nurs\", \"blue\", \"articl\", \"gov\", \"daili\", \"fox\", \"rock\", \"popul\", \"opportun\", \"sheet\", \"stake\", \"swing\", \"essenti\", \"wine\", \"com\", \"indoor\", \"word\", \"past\", \"home\", \"california\", \"hous\", \"island\", \"million\", \"year\", \"quiz\", \"appear\", \"need\", \"know\", \"here\\u2019\", \"brief\", \"todai\", \"barrett\", \"doctor\", \"ginsburg\", \"patient\", \"ruth\", \"bader\", \"bedroom\", \"even\", \"treatment\", \"jersei\", \"william\", \"fraud\", \"condit\", \"drama\", \"bai\", \"advanc\", \"unlik\", \"separ\", \"wind\", \"puzzl\", \"album\", \"cancer\", \"sold\", \"mental\", \"miami\", \"happen\", \"medic\", \"end\", \"fridai\", \"dai\", \"wednesdai\", \"thursdai\", \"tuesdai\", \"week\\u2019\"], \"Freq\": [15394.0, 10403.0, 8681.0, 6589.0, 7717.0, 5817.0, 4306.0, 3129.0, 3743.0, 3447.0, 6317.0, 2558.0, 4077.0, 3521.0, 2843.0, 2791.0, 2136.0, 3211.0, 4915.0, 2253.0, 2637.0, 2824.0, 3474.0, 2192.0, 2656.0, 1717.0, 3083.0, 5111.0, 2458.0, 2522.0, 8679.980976289387, 6588.645631536365, 3520.6220356394315, 2655.3907757726192, 2457.674192957074, 1484.7016989231531, 1335.7697184387116, 1257.8140942673624, 1235.5099040026594, 1179.9497054694864, 1039.7164104039587, 1032.1647179962063, 951.833758246291, 738.3233913432581, 628.012857099279, 608.8007837154439, 586.1447536423328, 511.1537431308287, 492.13989229308135, 469.24573908626684, 464.3212026074278, 456.5210248238149, 418.28738847373063, 408.6634858470598, 405.5103567990095, 395.7953676816548, 385.7879727655046, 352.52038141600286, 303.2737362356215, 288.7011483416367, 1436.9666607056897, 740.0199405074306, 936.6147808329322, 728.5261891494804, 2039.6927883925514, 671.5121203992005, 858.1514067958944, 591.5615859532988, 1686.6978877495012, 1085.6650933585563, 927.7305279050477, 1615.6126683406455, 779.5545146731337, 855.5466130619805, 1973.4056444210396, 910.7042920851618, 793.4695766150815, 878.5061258134341, 885.7251545160804, 2636.0417282425415, 1781.9843646124082, 1399.457162265079, 1129.1024084122455, 953.9425450821515, 927.4830282088643, 807.008038940342, 749.2764207362284, 604.8753084266384, 586.65900556911, 536.436351254392, 507.0735718947763, 496.08774486539755, 496.07063137743575, 472.7790112757538, 448.93313147824074, 437.0436579559429, 424.5121026638763, 377.0826412271988, 350.263578121113, 336.60353770142854, 331.8501985093573, 329.13097392928523, 324.24827849963566, 316.3757209017173, 311.8853318103932, 300.5201829621267, 290.7103241983933, 283.6913221857723, 261.96957937979107, 1103.155318264216, 3211.860289937149, 1916.3383926179936, 1974.3851706432713, 539.3123951455811, 5600.021783289027, 4156.290126167972, 1876.1550536270306, 656.6553444744184, 699.691094444623, 929.1732975341632, 1448.1957240380384, 1926.752303178247, 1038.2389145283844, 1262.610758469849, 1291.717378795369, 800.7015284765328, 744.7529184039115, 1079.2059969394668, 711.4929360428495, 670.9392394409789, 630.8991104635635, 607.8957032305725, 2060.4842869848876, 1818.6325059838932, 1543.8567176747786, 1456.2810787169083, 1225.0736693255287, 1066.2550675484608, 963.2522957915312, 921.1426750834183, 839.4352658679483, 838.2994002025597, 790.4563432229115, 741.7652106557374, 627.4664150742034, 560.9649429732741, 553.5003533530768, 535.4462021171839, 459.32504954639313, 451.5699619437845, 438.2446645382663, 434.70162216828845, 407.7200361725627, 388.4184937209822, 355.1587814684027, 346.460841619066, 341.7969524246683, 339.2032311845068, 327.4754470235379, 316.1846634956991, 307.1812820425532, 297.30357337167374, 1301.249732183, 912.7633151895898, 1037.3876015469473, 1507.683525786587, 660.3518096693156, 525.6443899932369, 571.7960095576027, 786.6250594576463, 1171.082565800122, 2350.380713415261, 539.0481163379043, 801.3634317201238, 675.574646114095, 608.918171550947, 877.3172458190855, 708.6874545449115, 668.3115947972483, 760.7183360553943, 685.161631143851, 616.9296074508258, 3741.9844779825244, 1207.312279086297, 1181.1283351714987, 886.5435539509607, 878.0705477536898, 817.4184995924387, 734.7138012311932, 729.6121417877513, 711.269532903732, 681.5748895851478, 654.0496919718942, 594.5732839995337, 477.51668465844136, 447.48019381510386, 441.46073184858955, 435.74884968165304, 426.89645081279616, 396.0615136755992, 382.5582460433938, 371.7463638870191, 337.7540873329397, 333.917720080936, 321.1759344046586, 305.6607447384198, 293.03856420945596, 279.6501930238287, 276.2284403546387, 274.421523119582, 273.12244029599435, 269.3121887013732, 2594.2689172838527, 462.4830270577136, 9682.995092692356, 449.4671410663822, 654.558356110365, 401.69747582186847, 491.67016785562953, 1268.929963532276, 1015.2336311256382, 902.533223003195, 826.2904385321887, 768.0796961284173, 454.2067906189264, 503.32198265595514, 468.1928763934957, 462.938796099818, 1142.743207070392, 777.5782322049895, 686.0645137628279, 638.2857086884902, 624.0787494388293, 613.0204105138271, 523.7537409136512, 495.83911506687025, 478.40851404661606, 474.4413830776735, 454.4035838938376, 440.6133975712821, 419.51277524457817, 389.0703788856299, 376.8536330795854, 375.0506060670152, 357.63558136964184, 354.7516425811807, 339.3112163536177, 297.4687102630336, 294.4720460510444, 293.5456799998155, 279.43867204288335, 257.19098688170163, 253.51354459760145, 250.21086168484644, 245.54494131262052, 245.25167741719133, 243.99401496007496, 240.97781270536555, 2229.187785610834, 1200.8864896594196, 1037.9315604898181, 773.6263297006003, 418.4478263008206, 795.8872528036844, 527.900675986915, 862.5544558464019, 1558.5580550404807, 710.1584956474112, 431.83515402936507, 570.3562437285501, 1094.9109864173413, 987.8764478230709, 656.3141235697794, 679.3331459209621, 583.0419025598793, 1200.9577619656036, 1234.5396183799232, 948.0503798288938, 1131.0097910847549, 599.946039327133, 573.2905446726284, 769.6753548184174, 692.8499929000612, 610.8919040596214, 542.2002428535048, 1285.950282269948, 1097.5021442494785, 1038.7707506092688, 957.4023608719792, 926.5253294966228, 651.2353851404079, 624.9174718997008, 574.5015301644773, 554.703311082774, 491.581388417622, 437.1578583930779, 411.5186581827427, 406.86310927394146, 404.8699503380477, 398.69362149064966, 379.0233177942486, 378.7751385163539, 379.0671399797686, 338.8509675168779, 332.8597755050476, 325.8715464001084, 292.42577346501076, 291.19534753924523, 278.2516761001367, 276.0834297772343, 271.61069296817755, 268.9028333591666, 266.24754572877447, 255.27858177902502, 253.46841799294052, 850.6510776251278, 419.50831758234676, 464.0693297739985, 471.56991601039323, 451.87859816654986, 735.6118732030403, 539.7904419612578, 719.27787659822, 1099.1763201424017, 868.8548208121342, 584.3335884665822, 489.2759826811435, 654.7429904826554, 510.71059612238946, 446.5809828503555, 416.0741519261085, 4305.531421656456, 2842.7240247530176, 2790.6359018681737, 2191.436383485498, 1878.052081185451, 1848.576389648618, 1830.6064975650686, 1325.379729480016, 1105.5635319966007, 777.241944304713, 512.5995831773073, 480.02634273672896, 436.7387905569341, 423.2216565566113, 398.73004554032815, 305.05479688552526, 256.87866743817557, 256.2132440180621, 255.81656314798036, 242.5283486431386, 219.01425846996403, 210.19280318562778, 205.78759851459984, 190.65892820765316, 187.23140655506913, 184.53729582704202, 171.7420763219534, 171.08811329219932, 169.8990257144841, 159.9031867494975, 1894.6431225295323, 1904.053904962775, 4737.545756385132, 1639.0250980308915, 571.2280931779234, 4802.455100887154, 3560.491876858993, 674.2206752338872, 1032.22979148944, 683.2289024460148, 1015.7772118427198, 681.9619887268494, 1236.3427314530306, 537.5364555863279, 501.2323535382751, 508.77678617421395, 484.20073586669776, 448.62451276232093, 3446.6373259384995, 2252.708763141279, 1942.9143637725108, 1725.2072453197488, 1320.2074289976438, 1242.9952288484028, 1175.6727255482042, 1030.4925511467447, 935.238133733035, 645.8207685088107, 615.5056564426928, 599.2805166434318, 585.2295658106079, 491.9770443120099, 486.806635481769, 478.40677285485333, 455.29768776103015, 445.1698018763825, 426.73564974980127, 413.41278932500546, 410.7487333965811, 387.2143697284955, 383.7621771818248, 382.5003465063493, 317.9375257352608, 310.66009710898163, 284.180423816644, 280.0660196410072, 273.0120867943084, 267.21781676563893, 1626.5017364933096, 1651.0127027357248, 422.2681084782531, 1298.5891416181457, 945.8238160536392, 1004.8944216002394, 1020.8289996808281, 1857.374287627745, 561.2352722595552, 1473.5649681490725, 683.6246236865663, 1042.5254675701347, 760.2135820252206, 500.9433027098099, 594.244618206167, 523.5233617658703, 510.4543815353384, 1336.5352386827988, 1028.9602438577995, 704.1667615465265, 679.1414782611494, 584.7219202151899, 568.9214861632145, 557.0998217693373, 503.513034138944, 500.8418731222076, 458.2580478023202, 456.19861308283106, 443.06071605650357, 414.3461919736979, 405.4849289222093, 399.3077147849202, 393.44574118433434, 382.9738115444224, 380.5969241864267, 378.14367122704516, 376.46734689234216, 347.0399810182628, 320.27649866658123, 319.5025515704203, 301.44189448599195, 296.3857030118677, 294.15045428818036, 290.44136869341435, 286.6849312962777, 281.17856107544475, 270.13885863933507, 708.5001728009851, 1291.6166200580726, 2893.6610127218823, 585.9218411760081, 1163.5650356204205, 513.3906457610178, 416.48725004378673, 864.1408985735643, 434.1154572553798, 824.9574584388107, 463.36117430601166, 493.94277642975277, 452.3826092342356, 553.1138066763467, 572.4026290938942, 516.0721299195034, 451.6163564052168, 473.5916321954458, 1576.9148768523976, 1574.176704909381, 1382.8040729154197, 1144.6438348407503, 975.1324697633879, 960.2851111128189, 777.8068279214862, 634.4342482505047, 617.6095755696764, 616.2115930369843, 527.2409906162836, 525.0732711613955, 495.9168000489166, 482.6610436207342, 452.3704779550087, 451.8826098019817, 437.5264608671316, 407.03524231785525, 396.40251712964624, 387.89951305485675, 337.0625058308046, 336.03196789660234, 322.09437355722594, 294.41853296135383, 279.01221043343537, 273.7110280812744, 270.50726506984387, 269.9495741687581, 267.3599267312977, 259.89207512966607, 911.9050753751527, 1041.1573567885237, 813.5472277425553, 722.8221457865396, 701.5566317613085, 432.2864132000303, 718.7863654892162, 574.1499113349134, 556.1021630600125, 506.22377061126883, 507.03376540780135, 607.8256709540399, 459.49577164410397, 477.25019436346355, 464.3190468825007, 1377.3345123975953, 954.0504153220896, 855.5116817270572, 686.0771960703081, 678.617148284381, 668.9041695236162, 565.411955617042, 529.5002215753212, 523.0121093324219, 507.7367081190486, 470.90613771688857, 392.39944322242735, 390.02881203927046, 388.94555295743726, 378.6590017131437, 373.32143135470676, 342.88043279318975, 326.3670935659869, 325.71065417629706, 324.520690171428, 312.741610893082, 307.401805720563, 303.7327773532778, 295.4964147503016, 293.9695599719494, 291.2883194289139, 280.4547154948647, 277.7424259348497, 271.8150136463668, 262.013089285138, 693.8230616785642, 1431.1292883186238, 1286.473527277599, 749.0872129597557, 793.44314731408, 819.0405290243269, 520.6677595628695, 565.1479495801536, 380.3638072874663, 966.400355509545, 417.6807924239567, 893.9308771687962, 516.2988470201401, 475.2291024820918, 436.1978957546132, 411.8511160046605, 417.1147587132645, 1425.502047359791, 657.2404457469262, 616.189925704117, 608.6239664441574, 534.3236314204399, 519.2513065811585, 444.47705720656535, 435.74468348000335, 418.7744615127805, 413.99993602807916, 406.9974517456054, 399.86086750622565, 396.49110285973546, 381.4086850850083, 372.75325581574924, 363.0033667713524, 321.8691263960393, 320.971025247018, 320.4084574996846, 304.09101597807745, 301.9442826298898, 293.39114356031723, 289.452063642235, 280.8462201709947, 280.8427330050963, 270.9765483955348, 270.6967812972792, 267.74306672850497, 261.23947397704103, 261.21945821180304, 457.53039804349817, 449.849872625852, 601.6240620974296, 950.5531706009427, 419.32928945287597, 903.5116428427925, 392.09100826950737, 362.170898053671, 388.34063222313057, 395.7240114149136, 422.44814826033473, 649.0993592722104, 588.0427133117824, 568.34504564599, 440.0100543925955, 413.11527322569077, 382.4169012937807, 1085.4943894083983, 1026.1086218046905, 925.0427042505161, 885.0737941974413, 848.2318976564436, 751.6804974790155, 712.9080056233452, 642.7525226823459, 578.7054245819884, 521.9001219900566, 484.59124486448223, 409.4788815058125, 405.60436450515823, 388.4728959957245, 377.25571568037594, 368.16197275155173, 362.2895315937322, 362.07009253813794, 352.90380731193653, 337.4089454446762, 326.194831867495, 321.9731879857324, 288.2346353140471, 288.1224205765593, 285.98908598958576, 284.64192367153623, 272.4840353630661, 269.9706203994039, 268.3722364665711, 267.8277789241115, 1652.525466652597, 501.208226227183, 507.7245430029607, 1035.2278744191797, 450.86060995315637, 480.93190136542574, 696.2282955254028, 481.39654007722004, 533.9162154774427, 615.1195947869518, 518.4247827810423, 436.0809671854023, 402.6365425834056, 508.3414592044838, 427.5421644676825, 395.84505575570125, 1469.4330059575504, 713.1893553964878, 711.3171250114441, 691.193095174679, 579.216550125965, 548.8017630128537, 541.0836052646783, 541.0163069732971, 507.89302178097375, 500.51207381703085, 485.71538390927816, 480.23342402328313, 478.7626488227164, 424.00855243583123, 414.3170597314376, 393.68800088883694, 384.06250450754567, 381.58620573655486, 377.1252583539569, 347.9592159544037, 337.82797223995055, 317.9840676127073, 310.1014578022708, 294.7978083839931, 293.8716375353944, 293.41671186056715, 291.6451595398479, 283.8859448954296, 278.9544482186576, 275.22940473410875, 840.9264958339121, 905.6910671535188, 1304.6400075891447, 719.3700232936679, 864.9524797070525, 395.05030866313473, 690.3469953752322, 836.8700116314699, 365.488894413649, 468.43355082532986, 3128.1726352034257, 2557.0318526385727, 2135.299943780198, 1716.7549430182357, 1093.290675558157, 959.8509430502124, 703.7268375871278, 655.288235049845, 568.4873297730472, 561.700498568612, 548.0294492149253, 510.2936429410647, 485.1657417576113, 464.11708293756493, 436.7015611787235, 420.7454573314927, 382.13958375889484, 361.77308882514797, 351.7387568820523, 345.00175733148825, 332.17488682180755, 314.2280001247403, 313.11293409253926, 298.2991091615795, 271.864617047014, 267.4762859866718, 229.2102320105102, 221.487443147734, 215.15778839567497, 203.17209606977966, 926.3270704041369, 487.5274062107198, 954.4351031534868, 636.9945961965213, 970.211622660064, 505.63537662611475, 513.1891351945306, 470.20126298936657, 324.40340448662323], \"Total\": [15394.0, 10403.0, 8681.0, 6589.0, 7717.0, 5817.0, 4306.0, 3129.0, 3743.0, 3447.0, 6317.0, 2558.0, 4077.0, 3521.0, 2843.0, 2791.0, 2136.0, 3211.0, 4915.0, 2253.0, 2637.0, 2824.0, 3474.0, 2192.0, 2656.0, 1717.0, 3083.0, 5111.0, 2458.0, 2522.0, 8681.033304231709, 6589.697959984672, 3521.674363549259, 2656.443104226517, 2458.7265211070744, 1485.7540271419318, 1336.8220470348203, 1258.8664223346154, 1236.562231546845, 1181.002033588914, 1040.768738403813, 1033.21704593739, 952.8860857622468, 739.3757195799096, 629.0651883535742, 609.853111988883, 587.1970814960815, 512.2060728659052, 493.19221987703554, 470.2980665626053, 465.3735311383049, 457.5733531358584, 419.33971848884136, 409.7158155936069, 406.5626875052853, 396.84769508119007, 386.84030073346605, 353.5727094555549, 304.3260651416691, 289.75347720633937, 1675.876075021487, 826.5388551654123, 1103.1369526543651, 838.289800287054, 3083.199328813607, 788.2098701947315, 1208.8165420062398, 702.8682229851146, 3749.2159740873185, 2114.062352371238, 1631.5481259516507, 4949.001125923167, 1227.1214676299192, 1774.4832124623515, 15394.666646934493, 2310.629835869214, 1513.0512224118177, 2495.722239255701, 2704.239876641376, 2637.1043878564633, 1783.0470239272775, 1400.519822681682, 1130.1650693016709, 955.0052050714935, 928.5456883477889, 808.070698463627, 750.3390812196685, 605.9379699763828, 587.7216649482833, 537.49901144234, 508.13623149510056, 497.1504051150264, 497.133291138142, 473.84167112266266, 449.995790841637, 438.1063191469643, 425.57476290606155, 378.1453014771045, 351.3262401206709, 337.6661975577553, 332.91286145852314, 330.19363530263126, 325.3109394900913, 317.43838122352537, 312.94799273964145, 301.5828437983651, 291.77298439891274, 284.75398270309535, 263.03224010571546, 1231.271404096402, 4077.79723434656, 2363.6533376710936, 2547.7702135413606, 590.679160828634, 10403.484135982168, 7717.789254771172, 2892.9395173246076, 789.0814468914032, 859.4256508644888, 1444.7547351187895, 2897.0333456089643, 5111.657684220744, 1883.273362544957, 2704.239876641376, 4949.001125923167, 1686.7419836128556, 1700.0276029854433, 5817.759005008053, 1776.5767506860989, 2302.541401467481, 2273.919575182216, 1208.8267412620119, 2061.5369552615703, 1819.68517453063, 1544.9093858293413, 1457.333747085581, 1226.1263383283354, 1067.3077383419038, 964.3049638249264, 922.1953432749067, 840.4879341658814, 839.3520683607558, 791.5090111019188, 742.8178789522397, 628.5190832861119, 562.0176109285743, 554.5530221955428, 536.4988700340793, 460.37771950991277, 452.62263008238494, 439.2973329028879, 435.7542902995178, 408.772704070995, 389.47116254789745, 356.2114512602319, 347.51350970303054, 342.84962083371727, 340.25590081568555, 328.52811459169305, 317.23733172775314, 308.2339519563569, 298.356241551931, 1342.620050393771, 968.8839005702929, 1202.0289111368718, 1894.241513921829, 735.9986008532503, 596.9812187007207, 694.8712193688116, 1220.2954557391308, 2557.508429258332, 15394.666646934493, 735.9959752465069, 1972.1578831207937, 1392.5525414872786, 1293.1443344171278, 6317.880367297926, 2845.240159575449, 2205.6583632464917, 5432.549658690291, 3375.9579042377122, 2034.900720814736, 3743.0361019000734, 1208.3639031424582, 1182.1799601082726, 887.595178573587, 879.1221719874551, 818.4701239775667, 735.7654250272695, 730.6637670762887, 712.3211571273939, 682.6265147960722, 655.1013166980562, 595.624908306812, 478.5683092850656, 448.5318183143334, 442.5123569162281, 436.80047347926535, 427.9480753335326, 397.11313826557995, 383.6098703615976, 372.79798901472975, 338.8057132141935, 334.9693449934298, 322.2275599597689, 306.71236987685, 294.0901890330953, 280.70181679525143, 277.2800660768715, 275.4731477266414, 274.17406454605526, 270.3638134029936, 3211.8549916128936, 490.6352206697299, 15394.666646934493, 514.9417395567295, 855.7070338082967, 450.7409400876662, 608.8085382111822, 5432.549658690291, 3474.1040523298902, 3375.312044329491, 3349.930567372512, 4915.626051176035, 817.4501202310777, 2205.6583632464917, 1559.7855226061583, 2665.6123059062415, 1143.8013183018588, 778.632126899893, 687.118407586462, 639.3396023140189, 625.1326427512042, 614.0743031064661, 524.8076326094217, 496.89300756867317, 479.4624060034742, 475.49527577835454, 455.45747624487933, 441.6672894645949, 420.56666763734785, 390.12427204557304, 377.9075253477789, 376.10449831360444, 358.6894749680076, 355.8055355060004, 340.36510884631576, 298.52260212286234, 295.5259394584371, 294.59957188663566, 280.49256518482866, 258.2448803769213, 254.5674373819591, 251.26475530735496, 246.59883327026287, 246.30557012096884, 245.04790718560946, 242.0317048522318, 2824.4150409962144, 1500.3711224169854, 1296.8933073931034, 924.7871428861839, 458.1307601862818, 1007.7049930622707, 620.5659616344918, 1170.0910755169593, 3084.8033971030113, 1051.7464483031013, 524.8669292175726, 800.4316389441087, 2280.1610591816, 1968.5552406099823, 1013.8747125761497, 1108.7503831289948, 839.860208619665, 3375.9579042377122, 3749.2159740873185, 2310.8010349326396, 3375.312044329491, 1208.8267412620119, 1192.1529946690607, 5432.549658690291, 3710.8631932575267, 2434.5757063762508, 1437.9765650793838, 1287.0029051352928, 1098.554767908898, 1039.823372485059, 958.4549833304671, 927.5779519445273, 652.2880075568198, 625.9700945330275, 575.5541534233251, 555.7559336939419, 492.63401089784475, 438.21048166868627, 412.5712809922166, 407.9157320725531, 405.9225727344722, 399.7462435926101, 380.075940111676, 379.8277608211434, 380.19827071519506, 339.9035903440734, 333.91239770377564, 326.92416896929205, 293.4783960700496, 292.24797013638795, 279.3042976638735, 277.1360520757519, 272.66331624279263, 269.95545652960277, 267.3001689237821, 256.33120548722445, 254.52104163613842, 1107.1665737220478, 495.5056477213766, 578.5725962799713, 643.9532184511693, 620.1301007112933, 1395.9707092733706, 886.1683940726999, 1599.1813274328913, 3710.8631932575267, 6317.880367297926, 2302.541401467481, 1272.2913841197383, 4949.001125923167, 2114.062352371238, 1746.1514913424649, 5111.657684220744, 4306.607566927305, 2843.8001699752494, 2791.712047883185, 2192.5125287474552, 1879.128226430944, 1849.6525345671575, 1831.6826431405962, 1326.4558751513473, 1106.6396771295194, 778.3180896357026, 513.6757289655585, 481.1024881293892, 437.81493641143754, 424.297802418279, 399.8061909203951, 306.13094332109097, 257.95481432297146, 257.2893894347973, 256.8927095507011, 243.60449462013855, 220.09040535570617, 211.26894893925112, 206.86374511453127, 191.7350748192063, 188.30755188834266, 185.61344144928592, 172.8182224606241, 172.1642595552945, 170.97517221731445, 160.9793326176673, 2103.7225254138853, 2167.5345245808617, 5817.759005008053, 1884.241415172206, 720.2343025132132, 10403.484135982168, 7717.789254771172, 1038.6099409842932, 2273.919575182216, 1293.1443344171278, 2892.9395173246076, 1476.3974007963811, 4949.001125923167, 1392.5525414872786, 2665.6123059062415, 5432.549658690291, 4915.626051176035, 2302.541401467481, 3447.697624554837, 2253.7690612449383, 1943.9746625000193, 1726.267544396795, 1321.2677272954836, 1244.0555275245947, 1176.7330245927703, 1031.5528487100323, 936.2984313980871, 646.8810698804941, 616.5659552821884, 600.3408147492657, 586.2898638283241, 493.03734422060387, 487.8669336945705, 479.4670708841034, 456.3579867108954, 446.2301002360352, 427.7959486472826, 414.47308942777477, 411.8090321021695, 388.2746687668612, 384.8224753677948, 383.56064475675333, 318.9978250890023, 311.7203950694266, 285.2407221793362, 281.1263182566134, 274.0723847417477, 268.2781170432899, 1749.8571063494567, 2093.5128676532004, 450.3666905612613, 1746.1514913424649, 1208.9626982892423, 1474.3100760174882, 1530.1541176385758, 4915.626051176035, 746.6157722085696, 5111.657684220744, 1146.756081873362, 3083.199328813607, 1774.4832124623515, 827.8677134541439, 2824.4150409962144, 1220.7353172101011, 6317.880367297926, 1337.5865459495117, 1030.01155127475, 705.2180689897126, 680.192785798716, 585.7732277608633, 569.9727933840347, 558.1511289883584, 504.5643419426538, 501.8931803666044, 459.3093551433118, 457.2499212209641, 444.11202335446484, 415.39749955140974, 406.5362378856334, 400.3590224447918, 394.49704878503536, 384.0251195368499, 381.6482314759213, 379.19497828303423, 377.5186571308312, 348.0912886123378, 321.3278059641196, 320.5538588593034, 302.4932021531978, 297.43701187416997, 295.20176249213034, 291.4926767768866, 287.73623851007136, 282.229870886205, 271.19016595233575, 805.4489130537671, 1620.9235635155997, 6317.880367297926, 830.1790912492655, 2434.5757063762508, 720.0661785419335, 520.881898387351, 2115.7716196452175, 578.6099795313986, 2845.240159575449, 807.3284946357534, 1070.6691679511505, 780.2702439362015, 2034.900720814736, 2547.7702135413606, 1968.5552406099823, 3375.312044329491, 15394.666646934493, 1577.9759418103645, 1575.2377689363152, 1383.8651389281272, 1145.704899704085, 976.1935338138071, 961.3949780386196, 778.8678919083604, 635.4953137668028, 618.6706397333444, 617.2726568305213, 528.3020553096126, 526.1343356107758, 496.9778641019426, 483.722107736408, 453.43154242537406, 452.9436736890642, 438.58752545427103, 408.09630672122273, 397.46358216575624, 388.960577332982, 338.1235718658934, 337.09303189571744, 323.15543735659656, 295.479597490965, 280.07327518822075, 274.7720922883658, 271.5683295153124, 271.01063872086917, 268.4209912407484, 260.9531401115587, 1130.829566914648, 1528.0000381339944, 1120.9641438339465, 981.4511955037851, 973.0391050824061, 584.1547235130449, 1591.9416610671024, 1394.9268758635037, 1824.9710392236705, 1405.5228052179873, 1700.0276029854433, 5111.657684220744, 1225.2491243645234, 2115.7716196452175, 1861.1662081185395, 1378.3821844525319, 955.0980875910055, 856.5593539345341, 687.124869127155, 679.6648207931892, 669.9518420511184, 566.4596285177164, 530.5478938879075, 524.0597812355444, 508.78438070529495, 471.95381078427596, 393.44711575522183, 391.0764842269517, 389.99322691942945, 379.70667679473206, 374.36910406152566, 343.92810675445537, 327.4147656804778, 326.7583265106639, 325.56836290125614, 313.7892833792935, 308.44947884267316, 304.780449905277, 296.5440872595597, 295.0172326407357, 292.3359921394346, 281.5023877904321, 278.790098129773, 272.86268646513645, 263.0607613629813, 737.6824956181432, 1677.0308246428672, 1621.6199613497106, 906.2597087318608, 1476.3974007963811, 1770.5643685498624, 836.4898756537349, 996.1248589455308, 492.2568771997594, 5432.549658690291, 651.3485442239627, 15394.666646934493, 3474.1040523298902, 3349.930567372512, 2177.5058295559415, 1426.9424403524733, 4915.626051176035, 1426.556599734697, 658.2949959385603, 617.2444758956719, 609.6785174312623, 535.3781842439911, 520.3058575355263, 445.5316076782739, 436.79923438665776, 419.82901232401736, 415.0544880351229, 408.05200209511054, 400.9154180398792, 397.54565433361137, 382.4632354891643, 373.80780711062357, 364.057918002148, 322.9236767442538, 322.0255755852884, 321.4630086535475, 305.14556670537024, 302.9988338508659, 294.4456945801043, 290.5066140014271, 281.9007713239232, 281.8972833390442, 272.0310988441884, 271.7513324276971, 268.79761794575995, 262.294024281637, 262.2740089436894, 467.71963626948695, 508.2201396523423, 752.0794783780099, 1770.5643685498624, 554.322387264863, 2845.240159575449, 558.4726206435716, 476.9347977858269, 569.4121051345514, 598.043899043047, 785.1351057682306, 3710.8631932575267, 3349.930567372512, 5432.549658690291, 3084.8033971030113, 1776.5767506860989, 1599.6144488048592, 1086.549303254221, 1027.1635355515734, 926.0976174558089, 886.1287080344417, 849.286811293292, 752.7354121196212, 713.962919931225, 643.8074359579637, 579.760338426937, 522.9550353607004, 485.64615851317245, 410.5337955440501, 406.65927845814707, 389.52780973983096, 378.3106303304169, 369.2168859019821, 363.3444450266965, 363.1250064717216, 353.9587210657575, 338.46385972027724, 327.2497454436965, 323.02810155817707, 289.28954871402993, 289.1773359240662, 287.04399946122425, 285.69683765474764, 273.5389494857515, 271.0255344722299, 269.427150174565, 268.8826925289845, 2522.6882892633685, 595.366740816608, 659.896490336411, 1861.1662081185395, 565.7595902099436, 663.294451851114, 1220.7353172101011, 671.9917545450766, 810.8147016626493, 1105.2367612571156, 891.8250815382527, 649.9024541587431, 535.1330081211632, 1530.1541176385758, 2125.235844664871, 1088.7534170939125, 1470.4863642053815, 714.2427139619886, 712.3704836548072, 692.246453124885, 580.2699093436337, 549.8551209303536, 542.1369636590313, 542.069664893158, 508.94637971696477, 501.56543245873763, 486.7687423756841, 481.28678284449757, 479.8160073066227, 425.06191120988666, 415.3704179725916, 394.7413600945577, 385.1158626950959, 382.6395641747683, 378.1786174389523, 349.01257523267213, 338.8813310682722, 319.03742735245004, 311.15481673295295, 295.8511660326469, 294.92499672703696, 294.47007238720073, 292.6985178953667, 284.93930284768834, 280.00780567254026, 276.282763560722, 1052.8365130059517, 1206.1100208512548, 3474.1040523298902, 1883.273362544957, 4077.79723434656, 606.3804212940402, 2495.722239255701, 6317.880367297926, 517.0899967575891, 1474.3100760174882, 3129.2292846256005, 2558.0885018899007, 2136.3565931601293, 1717.811592032428, 1094.3473250123884, 960.9076009606764, 704.7834873521709, 656.3448904377279, 569.5439792764072, 562.7571517378769, 549.0861062903258, 511.35029268230056, 486.22239105254954, 465.1737329969043, 437.7582114334715, 421.80210727607346, 383.19623498940666, 362.82973907460865, 352.79540702259516, 346.05840818600586, 333.23153743756285, 315.2846506055226, 314.1695852581117, 299.3557603602127, 272.9212662683387, 268.53293586891044, 230.26688164619702, 222.54409300128754, 216.21443871325738, 204.22874681878093, 1209.859950690231, 569.709805676882, 1788.1030751254327, 1216.8171255136376, 4915.626051176035, 1307.174259588297, 1379.6640931212546, 1219.0082587693191, 693.2712339079001], \"Category\": [\"Default\", \"Default\", \"Default\", \"Default\", \"Default\", \"Default\", \"Default\", \"Default\", \"Default\", \"Default\", \"Default\", \"Default\", \"Default\", \"Default\", \"Default\", \"Default\", \"Default\", \"Default\", \"Default\", \"Default\", \"Default\", \"Default\", \"Default\", \"Default\", \"Default\", \"Default\", \"Default\", \"Default\", \"Default\", \"Default\", \"Topic1\", \"Topic1\", \"Topic1\", \"Topic1\", \"Topic1\", \"Topic1\", \"Topic1\", \"Topic1\", \"Topic1\", \"Topic1\", \"Topic1\", \"Topic1\", \"Topic1\", \"Topic1\", \"Topic1\", \"Topic1\", \"Topic1\", \"Topic1\", \"Topic1\", \"Topic1\", \"Topic1\", \"Topic1\", \"Topic1\", \"Topic1\", \"Topic1\", \"Topic1\", \"Topic1\", \"Topic1\", \"Topic1\", \"Topic1\", \"Topic1\", \"Topic1\", \"Topic1\", \"Topic1\", \"Topic1\", \"Topic1\", \"Topic1\", \"Topic1\", \"Topic1\", \"Topic1\", \"Topic1\", \"Topic1\", \"Topic1\", \"Topic1\", \"Topic1\", \"Topic1\", \"Topic1\", \"Topic1\", \"Topic1\", \"Topic2\", \"Topic2\", \"Topic2\", \"Topic2\", \"Topic2\", \"Topic2\", \"Topic2\", \"Topic2\", \"Topic2\", \"Topic2\", \"Topic2\", \"Topic2\", \"Topic2\", \"Topic2\", \"Topic2\", \"Topic2\", \"Topic2\", \"Topic2\", \"Topic2\", \"Topic2\", \"Topic2\", \"Topic2\", \"Topic2\", \"Topic2\", \"Topic2\", \"Topic2\", \"Topic2\", \"Topic2\", \"Topic2\", \"Topic2\", \"Topic2\", \"Topic2\", \"Topic2\", \"Topic2\", \"Topic2\", \"Topic2\", \"Topic2\", \"Topic2\", \"Topic2\", \"Topic2\", \"Topic2\", \"Topic2\", \"Topic2\", \"Topic2\", \"Topic2\", \"Topic2\", \"Topic2\", \"Topic2\", \"Topic2\", \"Topic2\", \"Topic2\", \"Topic2\", \"Topic2\", \"Topic3\", \"Topic3\", \"Topic3\", \"Topic3\", \"Topic3\", \"Topic3\", \"Topic3\", \"Topic3\", \"Topic3\", \"Topic3\", \"Topic3\", \"Topic3\", \"Topic3\", \"Topic3\", \"Topic3\", \"Topic3\", \"Topic3\", \"Topic3\", \"Topic3\", \"Topic3\", \"Topic3\", \"Topic3\", \"Topic3\", \"Topic3\", \"Topic3\", \"Topic3\", \"Topic3\", \"Topic3\", \"Topic3\", \"Topic3\", \"Topic3\", \"Topic3\", \"Topic3\", \"Topic3\", \"Topic3\", \"Topic3\", \"Topic3\", \"Topic3\", \"Topic3\", \"Topic3\", \"Topic3\", \"Topic3\", \"Topic3\", \"Topic3\", \"Topic3\", \"Topic3\", \"Topic3\", \"Topic3\", \"Topic3\", \"Topic3\", \"Topic4\", \"Topic4\", \"Topic4\", \"Topic4\", \"Topic4\", \"Topic4\", \"Topic4\", \"Topic4\", \"Topic4\", \"Topic4\", \"Topic4\", \"Topic4\", \"Topic4\", \"Topic4\", \"Topic4\", \"Topic4\", \"Topic4\", \"Topic4\", \"Topic4\", \"Topic4\", \"Topic4\", \"Topic4\", \"Topic4\", \"Topic4\", \"Topic4\", \"Topic4\", \"Topic4\", \"Topic4\", \"Topic4\", \"Topic4\", \"Topic4\", \"Topic4\", \"Topic4\", \"Topic4\", \"Topic4\", \"Topic4\", \"Topic4\", \"Topic4\", \"Topic4\", \"Topic4\", \"Topic4\", \"Topic4\", \"Topic4\", \"Topic4\", \"Topic4\", \"Topic4\", \"Topic5\", \"Topic5\", \"Topic5\", \"Topic5\", \"Topic5\", \"Topic5\", \"Topic5\", \"Topic5\", \"Topic5\", \"Topic5\", \"Topic5\", \"Topic5\", \"Topic5\", \"Topic5\", \"Topic5\", \"Topic5\", \"Topic5\", \"Topic5\", \"Topic5\", \"Topic5\", \"Topic5\", \"Topic5\", \"Topic5\", \"Topic5\", \"Topic5\", \"Topic5\", \"Topic5\", \"Topic5\", \"Topic5\", \"Topic5\", \"Topic5\", \"Topic5\", \"Topic5\", \"Topic5\", \"Topic5\", \"Topic5\", \"Topic5\", \"Topic5\", \"Topic5\", \"Topic5\", \"Topic5\", \"Topic5\", \"Topic5\", \"Topic5\", \"Topic5\", \"Topic5\", \"Topic5\", \"Topic5\", \"Topic5\", \"Topic5\", \"Topic5\", \"Topic5\", \"Topic5\", \"Topic5\", \"Topic5\", \"Topic5\", \"Topic5\", \"Topic6\", \"Topic6\", \"Topic6\", \"Topic6\", \"Topic6\", \"Topic6\", \"Topic6\", \"Topic6\", \"Topic6\", \"Topic6\", \"Topic6\", \"Topic6\", \"Topic6\", \"Topic6\", \"Topic6\", \"Topic6\", \"Topic6\", \"Topic6\", \"Topic6\", \"Topic6\", \"Topic6\", \"Topic6\", \"Topic6\", \"Topic6\", \"Topic6\", \"Topic6\", \"Topic6\", \"Topic6\", \"Topic6\", \"Topic6\", \"Topic6\", \"Topic6\", \"Topic6\", \"Topic6\", \"Topic6\", \"Topic6\", \"Topic6\", \"Topic6\", \"Topic6\", \"Topic6\", \"Topic6\", \"Topic6\", \"Topic6\", \"Topic6\", \"Topic6\", \"Topic6\", \"Topic7\", \"Topic7\", \"Topic7\", \"Topic7\", \"Topic7\", \"Topic7\", \"Topic7\", \"Topic7\", \"Topic7\", \"Topic7\", \"Topic7\", \"Topic7\", \"Topic7\", \"Topic7\", \"Topic7\", \"Topic7\", \"Topic7\", \"Topic7\", \"Topic7\", \"Topic7\", \"Topic7\", \"Topic7\", \"Topic7\", \"Topic7\", \"Topic7\", \"Topic7\", \"Topic7\", \"Topic7\", \"Topic7\", \"Topic7\", \"Topic7\", \"Topic7\", \"Topic7\", \"Topic7\", \"Topic7\", \"Topic7\", \"Topic7\", \"Topic7\", \"Topic7\", \"Topic7\", \"Topic7\", \"Topic7\", \"Topic7\", \"Topic7\", \"Topic7\", \"Topic7\", \"Topic7\", \"Topic7\", \"Topic8\", \"Topic8\", \"Topic8\", \"Topic8\", \"Topic8\", \"Topic8\", \"Topic8\", \"Topic8\", \"Topic8\", \"Topic8\", \"Topic8\", \"Topic8\", \"Topic8\", \"Topic8\", \"Topic8\", \"Topic8\", \"Topic8\", \"Topic8\", \"Topic8\", \"Topic8\", \"Topic8\", \"Topic8\", \"Topic8\", \"Topic8\", \"Topic8\", \"Topic8\", \"Topic8\", \"Topic8\", \"Topic8\", \"Topic8\", \"Topic8\", \"Topic8\", \"Topic8\", \"Topic8\", \"Topic8\", \"Topic8\", \"Topic8\", \"Topic8\", \"Topic8\", \"Topic8\", \"Topic8\", \"Topic8\", \"Topic8\", \"Topic8\", \"Topic8\", \"Topic8\", \"Topic8\", \"Topic9\", \"Topic9\", \"Topic9\", \"Topic9\", \"Topic9\", \"Topic9\", \"Topic9\", \"Topic9\", \"Topic9\", \"Topic9\", \"Topic9\", \"Topic9\", \"Topic9\", \"Topic9\", \"Topic9\", \"Topic9\", \"Topic9\", \"Topic9\", \"Topic9\", \"Topic9\", \"Topic9\", \"Topic9\", \"Topic9\", \"Topic9\", \"Topic9\", \"Topic9\", \"Topic9\", \"Topic9\", \"Topic9\", \"Topic9\", \"Topic9\", \"Topic9\", \"Topic9\", \"Topic9\", \"Topic9\", \"Topic9\", \"Topic9\", \"Topic9\", \"Topic9\", \"Topic9\", \"Topic9\", \"Topic9\", \"Topic9\", \"Topic9\", \"Topic9\", \"Topic9\", \"Topic9\", \"Topic9\", \"Topic10\", \"Topic10\", \"Topic10\", \"Topic10\", \"Topic10\", \"Topic10\", \"Topic10\", \"Topic10\", \"Topic10\", \"Topic10\", \"Topic10\", \"Topic10\", \"Topic10\", \"Topic10\", \"Topic10\", \"Topic10\", \"Topic10\", \"Topic10\", \"Topic10\", \"Topic10\", \"Topic10\", \"Topic10\", \"Topic10\", \"Topic10\", \"Topic10\", \"Topic10\", \"Topic10\", \"Topic10\", \"Topic10\", \"Topic10\", \"Topic10\", \"Topic10\", \"Topic10\", \"Topic10\", \"Topic10\", \"Topic10\", \"Topic10\", \"Topic10\", \"Topic10\", \"Topic10\", \"Topic10\", \"Topic10\", \"Topic10\", \"Topic10\", \"Topic10\", \"Topic11\", \"Topic11\", \"Topic11\", \"Topic11\", \"Topic11\", \"Topic11\", \"Topic11\", \"Topic11\", \"Topic11\", \"Topic11\", \"Topic11\", \"Topic11\", \"Topic11\", \"Topic11\", \"Topic11\", \"Topic11\", \"Topic11\", \"Topic11\", \"Topic11\", \"Topic11\", \"Topic11\", \"Topic11\", \"Topic11\", \"Topic11\", \"Topic11\", \"Topic11\", \"Topic11\", \"Topic11\", \"Topic11\", \"Topic11\", \"Topic11\", \"Topic11\", \"Topic11\", \"Topic11\", \"Topic11\", \"Topic11\", \"Topic11\", \"Topic11\", \"Topic11\", \"Topic11\", \"Topic11\", \"Topic11\", \"Topic11\", \"Topic11\", \"Topic11\", \"Topic11\", \"Topic11\", \"Topic12\", \"Topic12\", \"Topic12\", \"Topic12\", \"Topic12\", \"Topic12\", \"Topic12\", \"Topic12\", \"Topic12\", \"Topic12\", \"Topic12\", \"Topic12\", \"Topic12\", \"Topic12\", \"Topic12\", \"Topic12\", \"Topic12\", \"Topic12\", \"Topic12\", \"Topic12\", \"Topic12\", \"Topic12\", \"Topic12\", \"Topic12\", \"Topic12\", \"Topic12\", \"Topic12\", \"Topic12\", \"Topic12\", \"Topic12\", \"Topic12\", \"Topic12\", \"Topic12\", \"Topic12\", \"Topic12\", \"Topic12\", \"Topic12\", \"Topic12\", \"Topic12\", \"Topic12\", \"Topic12\", \"Topic12\", \"Topic12\", \"Topic12\", \"Topic12\", \"Topic12\", \"Topic12\", \"Topic13\", \"Topic13\", \"Topic13\", \"Topic13\", \"Topic13\", \"Topic13\", \"Topic13\", \"Topic13\", \"Topic13\", \"Topic13\", \"Topic13\", \"Topic13\", \"Topic13\", \"Topic13\", \"Topic13\", \"Topic13\", \"Topic13\", \"Topic13\", \"Topic13\", \"Topic13\", \"Topic13\", \"Topic13\", \"Topic13\", \"Topic13\", \"Topic13\", \"Topic13\", \"Topic13\", \"Topic13\", \"Topic13\", \"Topic13\", \"Topic13\", \"Topic13\", \"Topic13\", \"Topic13\", \"Topic13\", \"Topic13\", \"Topic13\", \"Topic13\", \"Topic13\", \"Topic13\", \"Topic13\", \"Topic13\", \"Topic13\", \"Topic13\", \"Topic13\", \"Topic13\", \"Topic14\", \"Topic14\", \"Topic14\", \"Topic14\", \"Topic14\", \"Topic14\", \"Topic14\", \"Topic14\", \"Topic14\", \"Topic14\", \"Topic14\", \"Topic14\", \"Topic14\", \"Topic14\", \"Topic14\", \"Topic14\", \"Topic14\", \"Topic14\", \"Topic14\", \"Topic14\", \"Topic14\", \"Topic14\", \"Topic14\", \"Topic14\", \"Topic14\", \"Topic14\", \"Topic14\", \"Topic14\", \"Topic14\", \"Topic14\", \"Topic14\", \"Topic14\", \"Topic14\", \"Topic14\", \"Topic14\", \"Topic14\", \"Topic14\", \"Topic14\", \"Topic14\", \"Topic14\", \"Topic15\", \"Topic15\", \"Topic15\", \"Topic15\", \"Topic15\", \"Topic15\", \"Topic15\", \"Topic15\", \"Topic15\", \"Topic15\", \"Topic15\", \"Topic15\", \"Topic15\", \"Topic15\", \"Topic15\", \"Topic15\", \"Topic15\", \"Topic15\", \"Topic15\", \"Topic15\", \"Topic15\", \"Topic15\", \"Topic15\", \"Topic15\", \"Topic15\", \"Topic15\", \"Topic15\", \"Topic15\", \"Topic15\", \"Topic15\", \"Topic15\", \"Topic15\", \"Topic15\", \"Topic15\", \"Topic15\", \"Topic15\", \"Topic15\", \"Topic15\", \"Topic15\"], \"logprob\": [30.0, 29.0, 28.0, 27.0, 26.0, 25.0, 24.0, 23.0, 22.0, 21.0, 20.0, 19.0, 18.0, 17.0, 16.0, 15.0, 14.0, 13.0, 12.0, 11.0, 10.0, 9.0, 8.0, 7.0, 6.0, 5.0, 4.0, 3.0, 2.0, 1.0, -2.6901, -2.9658, -3.5925, -3.8746, -3.9519, -4.456, -4.5617, -4.6218, -4.6397, -4.6857, -4.8122, -4.8195, -4.9005, -5.1545, -5.3164, -5.3474, -5.3854, -5.5223, -5.5602, -5.6078, -5.6183, -5.6353, -5.7228, -5.746, -5.7538, -5.778, -5.8036, -5.8938, -6.0443, -6.0935, -4.4886, -5.1522, -4.9166, -5.1679, -4.1384, -5.2494, -5.0041, -5.3762, -4.3284, -4.769, -4.9262, -4.3715, -5.1002, -5.0072, -4.1714, -4.9447, -5.0825, -4.9807, -4.9725, -3.7901, -4.1816, -4.4233, -4.6379, -4.8065, -4.8346, -4.9738, -5.048, -5.2621, -5.2927, -5.3822, -5.4384, -5.4603, -5.4604, -5.5085, -5.5602, -5.5871, -5.6162, -5.7346, -5.8084, -5.8482, -5.8624, -5.8706, -5.8856, -5.9102, -5.9245, -5.9616, -5.9948, -6.0192, -6.0989, -4.6612, -3.5925, -4.1089, -4.0791, -5.3768, -3.0366, -3.3347, -4.1301, -5.1799, -5.1165, -4.8328, -4.389, -4.1035, -4.7218, -4.5262, -4.5034, -4.9816, -5.054, -4.6831, -5.0997, -5.1584, -5.22, -5.2571, -3.9563, -4.0812, -4.245, -4.3034, -4.4762, -4.6151, -4.7167, -4.7614, -4.8543, -4.8556, -4.9144, -4.978, -5.1453, -5.2573, -5.2707, -5.3039, -5.4572, -5.4743, -5.5042, -5.5123, -5.5764, -5.6249, -5.7144, -5.7392, -5.7528, -5.7604, -5.7956, -5.8307, -5.8596, -5.8922, -4.4159, -4.7705, -4.6425, -4.2687, -5.0942, -5.3224, -5.2382, -4.9192, -4.5213, -3.8247, -5.2972, -4.9007, -5.0714, -5.1753, -4.8101, -5.0236, -5.0822, -4.9527, -5.0573, -5.1622, -3.17, -4.3013, -4.3232, -4.6101, -4.6197, -4.6913, -4.7979, -4.8049, -4.8304, -4.873, -4.9142, -5.0096, -5.2288, -5.2938, -5.3073, -5.3204, -5.3409, -5.4158, -5.4505, -5.4792, -5.5751, -5.5865, -5.6254, -5.6749, -5.7171, -5.7639, -5.7762, -5.7828, -5.7875, -5.8015, -3.5364, -5.2608, -2.2193, -5.2894, -4.9135, -5.4017, -5.1996, -4.2515, -4.4745, -4.5922, -4.6805, -4.7535, -5.2789, -5.1762, -5.2485, -5.2598, -4.2854, -4.6704, -4.7957, -4.8678, -4.8903, -4.9082, -5.0656, -5.1204, -5.1562, -5.1645, -5.2076, -5.2385, -5.2875, -5.3629, -5.3948, -5.3996, -5.4471, -5.4552, -5.4997, -5.6313, -5.6414, -5.6446, -5.6938, -5.7768, -5.7912, -5.8043, -5.8231, -5.8243, -5.8295, -5.8419, -3.6172, -4.2358, -4.3816, -4.6755, -5.2901, -4.6472, -5.0577, -4.5667, -3.9751, -4.7611, -5.2586, -4.9804, -4.3282, -4.4311, -4.84, -4.8055, -4.9584, -4.2357, -4.2082, -4.4722, -4.2958, -4.9298, -4.9752, -4.6807, -4.7858, -4.9117, -5.031, -4.1131, -4.2716, -4.3266, -4.4082, -4.4409, -4.7935, -4.8348, -4.9189, -4.9539, -5.0747, -5.1921, -5.2525, -5.2639, -5.2688, -5.2842, -5.3348, -5.3354, -5.3347, -5.4468, -5.4647, -5.4859, -5.5942, -5.5984, -5.6438, -5.6517, -5.668, -5.678, -5.6879, -5.73, -5.7371, -4.5264, -5.2333, -5.1323, -5.1163, -5.159, -4.6717, -4.9812, -4.6941, -4.2701, -4.5052, -4.9019, -5.0794, -4.7881, -5.0366, -5.1708, -5.2415, -2.889, -3.3041, -3.3226, -3.5643, -3.7187, -3.7345, -3.7443, -4.0672, -4.2485, -4.6009, -5.0172, -5.0828, -5.1773, -5.2088, -5.2684, -5.5362, -5.708, -5.7106, -5.7122, -5.7655, -5.8675, -5.9086, -5.9298, -6.0062, -6.0243, -6.0388, -6.1107, -6.1145, -6.1214, -6.1821, -3.7099, -3.7049, -2.7934, -3.8548, -4.9089, -2.7798, -3.079, -4.7431, -4.3172, -4.7298, -4.3332, -4.7317, -4.1367, -4.9697, -5.0396, -5.0246, -5.0742, -5.1505, -3.0653, -3.4905, -3.6385, -3.7573, -4.0249, -4.0851, -4.1408, -4.2726, -4.3696, -4.7399, -4.788, -4.8147, -4.8384, -5.012, -5.0225, -5.04, -5.0895, -5.112, -5.1542, -5.186, -5.1924, -5.2514, -5.2604, -5.2637, -5.4486, -5.4717, -5.5608, -5.5754, -5.6009, -5.6223, -3.8162, -3.8013, -5.1648, -4.0414, -4.3584, -4.2978, -4.282, -3.6835, -4.8803, -3.915, -4.683, -4.261, -4.5768, -4.9939, -4.8231, -4.9498, -4.9751, -3.9418, -4.2033, -4.5826, -4.6188, -4.7685, -4.7959, -4.8169, -4.918, -4.9234, -5.0122, -5.0167, -5.0459, -5.1129, -5.1346, -5.1499, -5.1647, -5.1917, -5.1979, -5.2044, -5.2088, -5.2902, -5.3705, -5.3729, -5.4311, -5.448, -5.4556, -5.4682, -5.4813, -5.5007, -5.5407, -4.5765, -3.976, -3.1694, -4.7665, -4.0804, -4.8986, -5.1078, -4.3779, -5.0663, -4.4243, -5.0011, -4.9372, -5.0251, -4.8241, -4.7898, -4.8934, -5.0268, -4.9793, -3.7691, -3.7708, -3.9004, -4.0894, -4.2497, -4.2651, -4.4758, -4.6796, -4.7064, -4.7087, -4.8646, -4.8687, -4.9259, -4.953, -5.0178, -5.0189, -5.0511, -5.1234, -5.1499, -5.1715, -5.312, -5.3151, -5.3574, -5.4473, -5.501, -5.5202, -5.532, -5.5341, -5.5437, -5.572, -4.3167, -4.1842, -4.4309, -4.5491, -4.579, -5.0632, -4.5547, -4.7794, -4.8113, -4.9053, -4.9037, -4.7224, -5.0022, -4.9642, -4.9917, -3.8386, -4.2058, -4.3148, -4.5355, -4.5464, -4.5608, -4.7289, -4.7945, -4.8069, -4.8365, -4.9118, -5.0942, -5.1003, -5.103, -5.1298, -5.144, -5.2291, -5.2785, -5.2805, -5.2841, -5.3211, -5.3383, -5.3503, -5.3778, -5.383, -5.3922, -5.4301, -5.4398, -5.4614, -5.4981, -4.5243, -3.8003, -3.9068, -4.4476, -4.3901, -4.3583, -4.8114, -4.7294, -5.1253, -4.1929, -5.0318, -4.2708, -4.8198, -4.9027, -4.9884, -5.0458, -5.0331, -3.7544, -4.5287, -4.5932, -4.6055, -4.7357, -4.7643, -4.9198, -4.9397, -4.9794, -4.9908, -5.0079, -5.0256, -5.0341, -5.0728, -5.0958, -5.1223, -5.2426, -5.2454, -5.2471, -5.2994, -5.3065, -5.3352, -5.3487, -5.3789, -5.3789, -5.4147, -5.4157, -5.4267, -5.4513, -5.4514, -4.8909, -4.9078, -4.6171, -4.1597, -4.9781, -4.2104, -5.0452, -5.1246, -5.0548, -5.036, -4.9706, -4.5411, -4.6399, -4.674, -4.9299, -4.993, -5.0702, -4.0102, -4.0664, -4.1701, -4.2143, -4.2568, -4.3776, -4.4306, -4.5342, -4.6391, -4.7425, -4.8166, -4.9851, -4.9946, -5.0377, -5.067, -5.0914, -5.1075, -5.1081, -5.1337, -5.1786, -5.2124, -5.2255, -5.3362, -5.3366, -5.344, -5.3487, -5.3924, -5.4016, -5.4076, -5.4096, -3.5899, -4.7829, -4.77, -4.0576, -4.8888, -4.8242, -4.4543, -4.8233, -4.7197, -4.5781, -4.7491, -4.9221, -5.0019, -4.7688, -4.9419, -5.0189, -3.4906, -4.2135, -4.2161, -4.2448, -4.4216, -4.4755, -4.4897, -4.4898, -4.553, -4.5676, -4.5976, -4.609, -4.612, -4.7335, -4.7566, -4.8077, -4.8324, -4.8389, -4.8507, -4.9312, -4.9607, -5.0212, -5.0463, -5.097, -5.1001, -5.1016, -5.1077, -5.1347, -5.1522, -5.1656, -4.0487, -3.9745, -3.6096, -4.2049, -4.0206, -4.8042, -4.246, -4.0536, -4.882, -4.6338, -2.6537, -2.8553, -3.0355, -3.2537, -3.705, -3.8351, -4.1455, -4.2168, -4.3589, -4.3709, -4.3956, -4.4669, -4.5174, -4.5618, -4.6227, -4.6599, -4.7561, -4.8109, -4.839, -4.8584, -4.8962, -4.9518, -4.9553, -5.0038, -5.0966, -5.1129, -5.2673, -5.3015, -5.3305, -5.3879, -3.8707, -4.5126, -3.8408, -4.2451, -3.8244, -4.4761, -4.4613, -4.5487, -4.9199], \"loglift\": [30.0, 29.0, 28.0, 27.0, 26.0, 25.0, 24.0, 23.0, 22.0, 21.0, 20.0, 19.0, 18.0, 17.0, 16.0, 15.0, 14.0, 13.0, 12.0, 11.0, 10.0, 9.0, 8.0, 7.0, 6.0, 5.0, 4.0, 3.0, 2.0, 1.0, 2.2125, 2.2124, 2.2123, 2.2122, 2.2122, 2.2119, 2.2118, 2.2118, 2.2117, 2.2117, 2.2116, 2.2116, 2.2115, 2.2112, 2.2109, 2.2109, 2.2108, 2.2105, 2.2105, 2.2104, 2.2103, 2.2103, 2.2101, 2.21, 2.21, 2.2099, 2.2099, 2.2096, 2.2091, 2.209, 2.0588, 2.102, 2.049, 2.0723, 1.7994, 2.0524, 1.87, 2.0402, 1.4138, 1.5462, 1.648, 1.0931, 1.7589, 1.4831, 0.1583, 1.2815, 1.5671, 1.1685, 1.0964, 2.304, 2.3038, 2.3037, 2.3035, 2.3033, 2.3033, 2.3031, 2.303, 2.3027, 2.3026, 2.3024, 2.3023, 2.3023, 2.3023, 2.3022, 2.302, 2.302, 2.3019, 2.3016, 2.3014, 2.3013, 2.3012, 2.3012, 2.3011, 2.3011, 2.301, 2.3009, 2.3008, 2.3007, 2.3004, 2.1945, 2.0657, 2.0946, 2.0494, 2.2134, 1.685, 1.6855, 1.8714, 2.1207, 2.0988, 1.863, 1.611, 1.3287, 1.7089, 1.5428, 0.9612, 1.5593, 1.4791, 0.6197, 1.3893, 1.0713, 1.0223, 1.617, 2.384, 2.3839, 2.3838, 2.3838, 2.3837, 2.3835, 2.3834, 2.3834, 2.3833, 2.3833, 2.3832, 2.3831, 2.3828, 2.3826, 2.3826, 2.3826, 2.3822, 2.3822, 2.3821, 2.3821, 2.3819, 2.3818, 2.3816, 2.3815, 2.3814, 2.3814, 2.3813, 2.3812, 2.3811, 2.381, 2.3532, 2.3248, 2.2372, 2.1563, 2.2761, 2.2573, 2.1896, 1.9454, 1.6034, 0.5051, 2.0731, 1.4839, 1.6612, 1.6314, 0.4102, 0.9945, 1.1905, 0.4186, 0.7897, 1.1911, 2.5738, 2.5732, 2.5732, 2.5729, 2.5729, 2.5728, 2.5727, 2.5727, 2.5726, 2.5726, 2.5725, 2.5723, 2.5719, 2.5717, 2.5717, 2.5717, 2.5716, 2.5714, 2.5714, 2.5713, 2.571, 2.571, 2.5708, 2.5707, 2.5705, 2.5703, 2.5703, 2.5703, 2.5703, 2.5702, 2.3606, 2.515, 2.1104, 2.4381, 2.3061, 2.4589, 2.3604, 1.1199, 1.3439, 1.2551, 1.1743, 0.7178, 1.9865, 1.0965, 1.3707, 0.8235, 2.644, 2.6435, 2.6434, 2.6432, 2.6432, 2.6432, 2.6429, 2.6428, 2.6427, 2.6427, 2.6426, 2.6425, 2.6424, 2.6422, 2.6421, 2.6421, 2.6419, 2.6419, 2.6418, 2.6414, 2.6413, 2.6413, 2.6411, 2.6408, 2.6407, 2.6407, 2.6406, 2.6406, 2.6406, 2.6405, 2.4082, 2.4222, 2.4221, 2.4664, 2.5543, 2.4089, 2.4832, 2.34, 1.9622, 2.2522, 2.4498, 2.306, 1.9113, 1.9554, 2.21, 2.155, 2.2799, 1.6113, 1.534, 1.7539, 1.5515, 1.9443, 1.9128, 0.6907, 0.9667, 1.2623, 1.6695, 2.6983, 2.6982, 2.6981, 2.698, 2.698, 2.6975, 2.6975, 2.6973, 2.6972, 2.697, 2.6967, 2.6966, 2.6966, 2.6965, 2.6965, 2.6964, 2.6964, 2.6962, 2.696, 2.696, 2.6959, 2.6955, 2.6955, 2.6954, 2.6953, 2.6953, 2.6952, 2.6952, 2.695, 2.695, 2.4356, 2.5326, 2.4786, 2.3876, 2.3826, 2.0585, 2.2034, 1.9001, 1.4824, 0.7152, 1.3278, 1.7435, 0.6764, 1.2786, 1.3356, 0.1907, 2.7146, 2.7145, 2.7145, 2.7144, 2.7143, 2.7143, 2.7143, 2.714, 2.7139, 2.7135, 2.7128, 2.7126, 2.7124, 2.7123, 2.7122, 2.7113, 2.7107, 2.7107, 2.7107, 2.7104, 2.71, 2.7098, 2.7096, 2.7092, 2.7091, 2.709, 2.7086, 2.7086, 2.7085, 2.7082, 2.6102, 2.5853, 2.5095, 2.5754, 2.4831, 1.9418, 1.9412, 2.2828, 1.9251, 2.0769, 1.6682, 1.9425, 1.3278, 1.763, 1.0437, 0.3467, 0.3972, 1.0793, 2.7608, 2.7606, 2.7606, 2.7605, 2.7603, 2.7602, 2.7602, 2.7601, 2.76, 2.7595, 2.7594, 2.7593, 2.7593, 2.7589, 2.7589, 2.7589, 2.7588, 2.7587, 2.7586, 2.7585, 2.7585, 2.7584, 2.7583, 2.7583, 2.7578, 2.7577, 2.7574, 2.7573, 2.7572, 2.7571, 2.688, 2.5236, 2.6967, 2.465, 2.5156, 2.3778, 2.3563, 1.7878, 2.4757, 1.5173, 2.2438, 1.6768, 1.9134, 2.2587, 1.2023, 1.9145, 0.2453, 2.8311, 2.8308, 2.8304, 2.8303, 2.8301, 2.83, 2.83, 2.8298, 2.8298, 2.8296, 2.8296, 2.8295, 2.8293, 2.8293, 2.8292, 2.8292, 2.8291, 2.8291, 2.8291, 2.8291, 2.8288, 2.8286, 2.8286, 2.8284, 2.8283, 2.8283, 2.8283, 2.8282, 2.8281, 2.828, 2.7036, 2.6048, 2.051, 2.4834, 2.0936, 2.4936, 2.6082, 1.9364, 2.5446, 1.5938, 2.2766, 2.0582, 2.2868, 1.5292, 1.3387, 1.4931, 0.8205, -0.6496, 2.8386, 2.8386, 2.8385, 2.8383, 2.8381, 2.8381, 2.8379, 2.8376, 2.8375, 2.8375, 2.8372, 2.8372, 2.8371, 2.837, 2.8369, 2.8369, 2.8368, 2.8366, 2.8366, 2.8365, 2.8361, 2.8361, 2.8359, 2.8356, 2.8354, 2.8354, 2.8353, 2.8353, 2.8353, 2.8352, 2.6241, 2.4556, 2.5187, 2.5334, 2.5121, 2.5381, 2.0441, 1.9515, 1.6509, 1.818, 1.6294, 0.7098, 1.8585, 1.3501, 1.4508, 2.9043, 2.9039, 2.9038, 2.9035, 2.9035, 2.9035, 2.9032, 2.9031, 2.903, 2.903, 2.9028, 2.9024, 2.9024, 2.9023, 2.9023, 2.9022, 2.902, 2.9018, 2.9018, 2.9018, 2.9017, 2.9016, 2.9016, 2.9015, 2.9015, 2.9014, 2.9013, 2.9013, 2.9012, 2.901, 2.8437, 2.7465, 2.6735, 2.7146, 2.2841, 2.1341, 2.4309, 2.3383, 2.6472, 1.1785, 2.4607, 0.0589, 0.9986, 0.9521, 1.2972, 1.6624, 0.4382, 2.9541, 2.9532, 2.9531, 2.9531, 2.9528, 2.9528, 2.9524, 2.9524, 2.9523, 2.9523, 2.9522, 2.9522, 2.9521, 2.952, 2.952, 2.9519, 2.9515, 2.9515, 2.9515, 2.9513, 2.9513, 2.9512, 2.9512, 2.9511, 2.9511, 2.9509, 2.9509, 2.9509, 2.9508, 2.9508, 2.9328, 2.8328, 2.7316, 2.3328, 2.6757, 1.8077, 2.6011, 2.6795, 2.5721, 2.5419, 2.335, 1.2114, 1.2149, 0.6974, 1.0074, 1.4961, 1.5238, 2.9706, 2.9705, 2.9704, 2.9704, 2.9703, 2.9702, 2.9701, 2.9699, 2.9698, 2.9696, 2.9694, 2.969, 2.969, 2.9689, 2.9688, 2.9687, 2.9687, 2.9687, 2.9686, 2.9684, 2.9683, 2.9683, 2.9679, 2.9679, 2.9679, 2.9679, 2.9677, 2.9677, 2.9676, 2.9676, 2.5486, 2.7994, 2.7094, 2.385, 2.7446, 2.6501, 2.41, 2.638, 2.5538, 2.3856, 2.4291, 2.5726, 2.6871, 1.8696, 1.368, 1.9598, 3.1876, 3.1868, 3.1868, 3.1867, 3.1865, 3.1864, 3.1863, 3.1863, 3.1862, 3.1862, 3.1861, 3.1861, 3.1861, 3.1858, 3.1857, 3.1856, 3.1855, 3.1855, 3.1855, 3.1852, 3.1852, 3.185, 3.1849, 3.1847, 3.1847, 3.1847, 3.1847, 3.1846, 3.1845, 3.1845, 2.9635, 2.9018, 2.2089, 2.2259, 1.6376, 2.7598, 1.9031, 1.1668, 2.8413, 2.0417, 3.2693, 3.2692, 3.2691, 3.269, 3.2686, 3.2685, 3.2681, 3.268, 3.2678, 3.2677, 3.2677, 3.2675, 3.2674, 3.2673, 3.2672, 3.2671, 3.2668, 3.2667, 3.2666, 3.2665, 3.2664, 3.2662, 3.2662, 3.2661, 3.2657, 3.2657, 3.265, 3.2648, 3.2647, 3.2644, 3.0026, 3.1138, 2.6418, 2.6224, 1.6469, 2.3198, 2.2807, 2.317, 2.5102]}, \"token.table\": {\"Topic\": [10, 8, 2, 8, 7, 12, 3, 13, 2, 15, 7, 5, 2, 7, 12, 13, 9, 10, 14, 2, 5, 15, 1, 2, 5, 6, 10, 12, 7, 11, 5, 14, 10, 8, 8, 14, 3, 6, 4, 9, 4, 14, 3, 4, 10, 1, 3, 7, 2, 13, 5, 13, 15, 15, 12, 4, 13, 13, 12, 15, 6, 15, 4, 14, 1, 3, 5, 7, 5, 5, 8, 2, 2, 14, 11, 12, 9, 15, 4, 4, 12, 1, 4, 12, 13, 11, 1, 5, 2, 8, 14, 1, 2, 3, 8, 10, 6, 2, 7, 5, 12, 15, 7, 6, 2, 10, 3, 7, 1, 8, 7, 11, 10, 11, 3, 4, 13, 8, 4, 14, 5, 2, 6, 9, 5, 9, 1, 2, 6, 15, 1, 7, 1, 4, 6, 9, 9, 13, 1, 7, 9, 11, 5, 5, 12, 11, 3, 5, 14, 11, 13, 9, 13, 2, 10, 13, 15, 5, 6, 2, 2, 9, 14, 13, 7, 6, 9, 8, 11, 1, 8, 13, 14, 1, 2, 4, 6, 9, 12, 8, 1, 1, 1, 2, 8, 10, 11, 12, 4, 10, 13, 14, 1, 4, 7, 8, 11, 15, 14, 13, 11, 5, 9, 3, 12, 1, 2, 6, 13, 1, 6, 8, 9, 7, 10, 3, 12, 7, 6, 6, 8, 7, 10, 9, 12, 2, 1, 3, 4, 6, 8, 9, 12, 1, 3, 5, 7, 10, 5, 9, 2, 10, 2, 2, 15, 3, 13, 7, 5, 15, 5, 5, 13, 13, 6, 6, 12, 5, 1, 13, 2, 7, 7, 10, 1, 2, 4, 6, 15, 7, 5, 5, 14, 3, 15, 10, 3, 7, 12, 13, 4, 9, 11, 2, 5, 1, 3, 5, 6, 7, 8, 10, 4, 4, 5, 8, 9, 11, 6, 9, 13, 11, 11, 11, 11, 2, 4, 9, 10, 11, 11, 2, 3, 5, 8, 9, 10, 12, 15, 2, 4, 3, 3, 5, 7, 5, 9, 1, 10, 11, 6, 3, 1, 5, 6, 8, 10, 13, 14, 8, 12, 15, 8, 11, 3, 8, 15, 3, 9, 3, 4, 11, 8, 1, 3, 4, 5, 15, 15, 11, 9, 1, 14, 1, 2, 6, 13, 2, 2, 3, 4, 6, 8, 10, 12, 6, 12, 4, 3, 12, 14, 10, 10, 11, 15, 5, 10, 7, 10, 1, 2, 5, 4, 1, 5, 6, 9, 12, 15, 11, 9, 1, 4, 11, 14, 15, 1, 11, 3, 1, 10, 4, 2, 14, 12, 13, 6, 9, 14, 13, 1, 12, 3, 11, 10, 10, 2, 8, 13, 6, 8, 11, 14, 2, 6, 2, 7, 10, 13, 12, 1, 3, 4, 5, 7, 10, 11, 9, 9, 12, 15, 7, 2, 3, 11, 12, 14, 9, 10, 4, 8, 12, 12, 8, 10, 5, 6, 8, 15, 1, 6, 2, 10, 11, 9, 7, 2, 5, 8, 10, 2, 8, 8, 2, 6, 8, 10, 3, 4, 5, 8, 4, 12, 3, 1, 3, 4, 9, 11, 4, 3, 5, 7, 9, 10, 11, 12, 13, 5, 11, 12, 1, 3, 4, 5, 7, 9, 11, 14, 14, 4, 1, 3, 4, 5, 9, 10, 13, 15, 14, 12, 11, 7, 3, 13, 2, 3, 4, 6, 13, 8, 9, 2, 1, 14, 14, 1, 13, 13, 10, 13, 15, 15, 9, 15, 14, 2, 2, 6, 2, 6, 1, 4, 6, 7, 14, 7, 2, 9, 8, 13, 2, 3, 13, 14, 4, 5, 3, 8, 4, 3, 9, 1, 2, 3, 6, 7, 10, 2, 11, 5, 6, 9, 15, 3, 10, 1, 3, 4, 9, 11, 12, 7, 11, 5, 7, 10, 2, 1, 7, 14, 7, 5, 8, 9, 2, 4, 5, 10, 11, 13, 14, 2, 8, 1, 2, 6, 8, 11, 13, 9, 10, 1, 2, 3, 4, 6, 10, 11, 12, 6, 8, 14, 3, 4, 9, 11, 12, 4, 4, 1, 5, 9, 11, 8, 2, 7, 10, 9, 14, 15, 6, 12, 6, 12, 1, 5, 6, 8, 9, 1, 3, 10, 2, 3, 5, 9, 10, 4, 3, 1, 2, 3, 4, 6, 7, 13, 11, 6, 7, 8, 2, 7, 10, 13, 10, 14, 11, 9, 1, 6, 2, 7, 7, 2, 7, 2, 8, 8, 5, 3, 3, 13, 4, 6, 11, 12, 8, 4, 8, 10, 1, 2, 4, 9, 15, 1, 1, 2, 7, 9, 10, 9, 14, 8, 7, 2, 14, 10, 6, 10, 13, 1, 7, 11, 12, 3, 13, 6, 5, 8, 8, 12, 4, 5, 6, 7, 10, 13, 14, 14, 13, 1, 1, 3, 9, 7, 1, 7, 9, 13, 1, 14, 13, 2, 9, 1, 3, 6, 11, 13, 3, 9, 13, 6, 3, 8, 9, 10, 1, 13, 11, 12, 14, 2, 3, 6, 8, 13, 4, 2, 15, 1, 2, 3, 8, 9, 10, 1, 2, 6, 8, 9, 10, 6, 3, 8, 4, 11, 12, 1, 5, 9, 11, 5, 3, 2, 9, 2, 2, 10, 11, 2, 7, 10, 8, 15, 8, 4, 3, 11, 13, 8, 4, 5, 11, 14, 8, 5, 12, 6, 8, 2, 3, 5, 9, 10, 11, 13, 14, 1, 13, 10, 15, 9, 6, 4, 12, 7, 13, 3, 1, 4, 4, 15, 14, 3, 1, 2, 6, 7, 8, 2, 12, 1, 3, 11, 12, 3, 4, 4, 9, 1, 5, 14, 5, 11, 2, 10, 8, 6, 15, 8, 14, 9, 13, 6, 1, 2, 3, 1, 3, 2, 9, 10, 11, 2, 9, 2, 3, 10, 5, 3, 7, 8, 15, 5, 1, 3, 4, 5, 6, 7, 10, 11, 12, 14, 3, 15, 1, 5, 11, 1, 13, 15, 11, 2, 7, 2, 7, 7, 8, 15, 1, 2, 4, 5, 6, 7, 9, 11, 12, 13, 10, 5, 7, 1, 2, 6, 15, 10, 2, 15, 6, 7, 10, 11, 8, 10, 1, 7, 7, 3, 5, 9, 10, 13, 12, 6, 2, 7, 11, 4, 4, 14, 12, 4, 2, 3, 8, 15, 1, 2, 4, 6, 7, 9, 11, 12, 11, 4, 9, 11, 15, 3, 9, 2, 5, 9, 5, 15, 3, 7, 15, 14, 12, 1, 9, 10, 5, 8, 11, 14, 1, 2, 3, 4, 5, 9, 10, 13, 1, 1, 3, 4, 6, 11, 13, 7, 13, 3, 9, 3, 4, 6, 8, 9, 14, 4, 4, 3, 5, 9, 3, 4, 3, 6, 9, 12], \"Freq\": [0.9971900629283869, 0.9978627148349152, 0.9984520363092293, 0.9993770680541374, 0.11215612202812729, 0.8854430686431102, 0.9970467999559317, 0.9943739292387986, 0.9986749940745746, 0.9963042590535309, 0.9939164077664973, 0.9979647903668156, 0.9982237292033255, 0.9961661953614933, 0.9971396437896212, 0.9986885297655924, 0.9982464003976235, 0.7395300981253692, 0.2584931592984508, 0.9989474349813431, 0.994836529540407, 0.9942914418897995, 0.13608693549187223, 0.1509082849018781, 0.18674900256607416, 0.29615750911993577, 0.05497373235711274, 0.17489192303806944, 0.7927975632478635, 0.2054886853952431, 0.9946993885671054, 0.9984448250133477, 0.9980323789597558, 0.9967170952179046, 0.6816747822240881, 0.317436615005844, 0.9970074148866731, 0.9971691443784633, 0.4190855700845322, 0.5792864760801485, 0.9988712811273895, 0.9971025273088286, 0.23372485219609146, 0.7654488909421996, 0.9949925561577556, 0.9982528973342906, 0.9975218848670411, 0.9958245698681852, 0.2466676471022564, 0.7530838013803737, 0.9968553298959556, 0.9969018755203543, 0.9980219745539299, 0.9969415331025941, 0.9996098298975304, 0.20149901472760998, 0.7971583828258956, 0.9981737715556335, 0.9974902117348599, 0.9990554753029646, 0.995900742370966, 0.997359358737789, 0.9965823396960768, 0.9979028110325524, 0.17115765211470635, 0.11493798536170062, 0.712115778871406, 0.9998589221520969, 0.9981881561228039, 0.7891899623979476, 0.21030903439406948, 0.9973521609919623, 0.9986494431621444, 0.9981219092562783, 0.4625643746975333, 0.5371168746487841, 0.9951686850768326, 0.9995275430459356, 0.9993294481674141, 0.29544868253318773, 0.7019144457758157, 0.160254426243119, 0.5553855688120307, 0.11743835816289637, 0.16514769116657302, 0.9953007576861154, 0.8574619695442431, 0.14201527400941535, 0.5511679932632303, 0.06637379494981097, 0.3817820685513127, 0.05058741390373553, 0.4382281785846857, 0.08176337828627021, 0.13058611496080566, 0.29823045173481294, 0.9973416275386832, 0.12087466060115615, 0.8784173808572568, 0.24173658340083048, 0.7558778242160297, 0.9944982029671832, 0.9983064897845051, 0.9977272199270483, 0.2628760362022555, 0.7366642409853905, 0.9990027604694077, 0.9986845223018045, 0.6616503775592665, 0.3382849724481936, 0.9932375072602071, 0.9954299430266617, 0.3765735954112065, 0.622840772092821, 0.2231746198672835, 0.12129917172182728, 0.6552533688110473, 0.9990405220158683, 0.9416364348432995, 0.055030700737595424, 0.9957236640065825, 0.8144974487273868, 0.18500727763950642, 0.9982203775593206, 0.7375494250468639, 0.2623727386899041, 0.6356338965420463, 0.09371525397735297, 0.22980610105750904, 0.04074576259884912, 0.9983802215492344, 0.9966950591266661, 0.19210082697107125, 0.8076329743321862, 0.9972376706643875, 0.9982932634762107, 0.9974412729036715, 0.9988147929169451, 0.5241065128885397, 0.14011422538760454, 0.22206782891620344, 0.11301666293056782, 0.9975985517966499, 0.9986526092509155, 0.9977166803802288, 0.997439304569832, 0.9990813847699651, 0.9967999729483072, 0.9964007943631441, 0.9956789802147822, 0.9972914325634615, 0.9973305924933081, 0.9965355709690943, 0.19396440706117074, 0.24930605228915018, 0.5561029399122208, 0.9977131448025046, 0.9991881571822501, 0.997820694255328, 0.9977639234821783, 0.9987720974207293, 0.7986455303744187, 0.1977415616071277, 0.9990230137870751, 0.9975185407761825, 0.9992207436896288, 0.9971492957226982, 0.9960872207436797, 0.9979777474374282, 0.9998809699035246, 0.99849464939002, 0.9986513026036173, 0.9980761644590102, 0.513702918356163, 0.11068736914856551, 0.13386549345745316, 0.24171472493554264, 0.996848644229296, 0.9954489051176516, 0.9997976549480823, 0.9994567531959481, 0.9973995921857297, 0.9988220810504672, 0.40020787152900533, 0.010694725118215332, 0.24823019879647165, 0.10807301172091284, 0.23246955125383853, 0.9971969241046981, 0.9966770377477883, 0.9975609192580922, 0.9982600957101893, 0.08503494685076704, 0.15623645737174424, 0.09846151740615132, 0.3777748715355847, 0.08483151396356425, 0.1973299005867082, 0.9968834371257318, 0.9968172999401047, 0.9971659749213717, 0.9982505323850364, 0.9974960746478658, 0.8810997457253257, 0.11725662015356045, 0.13777224268133936, 0.36922961038598945, 0.1285874265025834, 0.3637187206787359, 0.48239396912196003, 0.046774181585423694, 0.42829371090267476, 0.04226582673381659, 0.9007841942592589, 0.09887235483162314, 0.9982690008651451, 0.9968046510845188, 0.9952654155969546, 0.9986398099451366, 0.9990371828262743, 0.9964458743755631, 0.9997186265112094, 0.9963474664027755, 0.198117358980921, 0.8004473161511036, 0.9969712661439115, 0.05025937776069408, 0.2491881037226021, 0.00913806868376256, 0.04604180759895751, 0.037958131455629096, 0.28995794861938895, 0.31772361885082134, 0.08651301836675623, 0.25137744959397096, 0.21791486701815013, 0.06855748625290116, 0.3746176927390671, 0.9957373152708994, 0.9966357535783944, 0.9973507334803283, 0.9979165760692089, 0.9994127895040192, 0.9959701954931299, 0.9988883290170227, 0.9972062009487846, 0.9955423598268159, 0.9981386281196407, 0.9992994252681502, 0.9977454155956622, 0.9949664436390696, 0.9975716297505488, 0.9959286715181049, 0.9985741068080566, 0.9984819492247707, 0.9951359218027549, 0.9974218920879958, 0.9969499047575722, 0.3277414920300844, 0.6708699085686235, 0.1854666030461512, 0.8144029334871773, 0.9930562960686888, 0.9962708522232218, 0.9970485404811373, 0.12247616093643678, 0.13925371722909935, 0.2041269348940613, 0.5335262901066697, 0.994988563509635, 0.998077794259034, 0.9977709742149475, 0.9976135243171391, 0.995644745712695, 0.9974859424924809, 0.9985490063184379, 0.9953486032889689, 0.10606615768516428, 0.23433220883931644, 0.6585968395799736, 0.1498770337031052, 0.57349641821932, 0.27498100398420955, 0.5029670334437255, 0.4963490461615712, 0.3942647956232676, 0.10906117288371399, 0.07746805534200318, 0.1307002944876255, 0.13762481340087718, 0.15060828636322407, 0.9979382582130626, 0.996293011213058, 0.9990018777613482, 0.5018909196034831, 0.07619801410984055, 0.2621211685378515, 0.1595078428699329, 0.9980254005256909, 0.9979376034042162, 0.9963629288081833, 0.9974532200795512, 0.9963429031758436, 0.9972473818540135, 0.9985792381013473, 0.9989148153013845, 0.14103329442927362, 0.46139369170901434, 0.1522412383574278, 0.2447067757646999, 0.9946629660862749, 0.2635647959805779, 0.057024573272842716, 0.37691852090098477, 0.12795757905125682, 0.014603854130849962, 0.09527276266316405, 0.031989394762814205, 0.031989394762814205, 0.12428590476097795, 0.8719433005887359, 0.9986467311961661, 0.4854394932043399, 0.12854093089286514, 0.3863408984377734, 0.6750676469081701, 0.3242226304164592, 0.19277882925787884, 0.8064875792806674, 0.9959676184411342, 0.9949625046005202, 0.9986243947142642, 0.24642350854127776, 0.07951456234907509, 0.5272316926929663, 0.1461348713442461, 0.9986604145805048, 0.9956749895794279, 0.9970987428404346, 0.019242296671107585, 0.9792190972630305, 0.9968782705043024, 0.058290660623535634, 0.9407841505286915, 0.1257378753076115, 0.3500936920329575, 0.523496905692474, 0.2488723062063705, 0.7500734784275334, 0.9994113662343678, 0.9988124803209084, 0.9989673055077224, 0.9978960128826677, 0.1912506205323859, 0.1761518873324607, 0.11827341006608075, 0.4806430068642856, 0.03271392193317127, 0.9979509394263266, 0.9963219561225043, 0.999017922397571, 0.9976453366529667, 0.9983285466672857, 0.20690775672309533, 0.47487998033008416, 0.23595784291057864, 0.08181452844638154, 0.9972579567682552, 0.15075929342732597, 0.03266451357592063, 0.08982741233378173, 0.18593646189370203, 0.08919924861116788, 0.4516497165593641, 0.997094094236561, 0.9977550949851813, 0.9974593985476102, 0.9976774008914736, 0.1984502945775946, 0.6814045512929797, 0.11766521890883927, 0.9973136078343104, 0.13472633746328053, 0.09835849176767106, 0.7653778435030538, 0.8508362247412268, 0.14825176643218346, 0.2774811398531962, 0.7214509636183102, 0.9997045132507265, 0.16219948682662527, 0.8369493520253863, 0.9971061680481573, 0.16500241165385454, 0.5053806675213345, 0.0852566488506164, 0.1014651372252583, 0.14263469769684872, 0.9993649968528322, 0.9982542440666186, 0.9950636836048912, 0.1827809387499895, 0.2921616580019517, 0.14852750298424344, 0.3756364174310808, 0.0005756879960629591, 0.9972399066572976, 0.9979790166696801, 0.9954542879851402, 0.9991515394889974, 0.9978440190384857, 0.995717813251231, 0.7876801653956444, 0.21212432847672244, 0.9979838201162252, 0.9967171835394748, 0.9987130184197205, 0.9948791963030031, 0.9953570626549778, 0.9987458424478086, 0.9990701031576739, 0.9978389774230036, 0.22549202487821385, 0.7719546797632546, 0.9964245151929114, 0.9968428697798198, 0.39378271999498304, 0.6051691494401427, 0.9961810651922676, 0.9953301912115826, 0.12203560240629312, 0.22428164766561978, 0.6514062560876457, 0.9962250467821152, 0.9972675536756049, 0.14476536214558516, 0.20448107403063906, 0.09409748539463036, 0.556441860747093, 0.9951424506422863, 0.11381334698409745, 0.21421143253660926, 0.01644451401291142, 0.4102473495852638, 0.058854050151472444, 0.06750905752668898, 0.11900635140922737, 0.9983014948781122, 0.23902638375150187, 0.7590136045442427, 0.99826796753626, 0.9994219644002114, 0.1299139463394598, 0.1757659274004456, 0.06750430545089578, 0.5374871113260004, 0.08660929755963986, 0.9988815263074655, 0.9993748387008309, 0.9965848168362051, 0.9991515430772652, 0.9961741800168248, 0.9948138392421602, 0.9992657312008736, 0.9976470105531706, 0.9984610882936171, 0.25599153464991764, 0.7439217080766064, 0.9995744862270807, 0.9978639284246904, 0.9968483004592814, 0.99806738410241, 0.9963176949249507, 0.9983629334671239, 0.9986799878788948, 0.9939936798776048, 0.21626220599141066, 0.11423527816481772, 0.5964651165246971, 0.07325010202934877, 0.9980270528629347, 0.9981394198570617, 0.9980354192377966, 0.6430157156907442, 0.21733792758546144, 0.04914328935849606, 0.08928851165135199, 0.9975830753170299, 0.19893695073391046, 0.8003742436503839, 0.9970242950700112, 0.9982038147337349, 0.9965622917613964, 0.9965990670542849, 0.12826178561453383, 0.30320889549489416, 0.13514172813791878, 0.27175772967370576, 0.16167864929954648, 0.9946523000924096, 0.20290537365413988, 0.35575088139944816, 0.029028797982636072, 0.08797503062084605, 0.08293942280753164, 0.10100836849060102, 0.04917122923589375, 0.09093715286397218, 0.2374407635078623, 0.09865496511946392, 0.6621587489374189, 0.10204034525100483, 0.13505339812632994, 0.17369367592358542, 0.17782030753300107, 0.1879493123924758, 0.07915629723515448, 0.14105577137638903, 0.003001186625029554, 0.9980267021705248, 0.9990915560532793, 0.9992613744288746, 0.30285741941321137, 0.22804982330066662, 0.18769905933693037, 0.08478194226088401, 0.06437987059382637, 0.0870488391127793, 0.04488455766752683, 0.9988726646173246, 0.9950665125323345, 0.9989972414994025, 0.996298521020135, 0.9987747316964689, 0.9983787940099468, 0.1485508762843377, 0.1996398019905914, 0.09510400016087228, 0.3843459180055086, 0.17134439698405088, 0.7824889893945024, 0.21671470953632097, 0.9954687860428808, 0.8493958957184718, 0.15047995591170366, 0.9989892023200196, 0.998139349800814, 0.9984848330667794, 0.998669487029094, 0.9987773594349225, 0.14217764762493865, 0.8565764449502478, 0.9943831747755386, 0.9982727768285098, 0.9939834776547337, 0.9978115195649726, 0.9960756137525172, 0.19703663936553847, 0.8019736900492093, 0.2692983291868108, 0.7288793101343622, 0.3522026554774557, 0.14865436311960872, 0.10377757425331176, 0.11860294200378486, 0.2764730742655796, 0.9963056876615548, 0.9977203475238051, 0.9962211538788688, 0.4292494798934487, 0.570148164133283, 0.1854380051826653, 0.0889499374453435, 0.7251681340883089, 0.9982993328813617, 0.08512853401099307, 0.912403261963977, 0.9980935010457834, 0.9982230119840152, 0.9989596887795574, 0.9987038068630213, 0.9982721815882226, 0.17589260273100016, 0.2914171269938299, 0.00738314628747408, 0.2536327901108743, 0.19500192253387424, 0.07643727921149636, 0.3577193839860402, 0.6417455043183039, 0.18280949883065878, 0.609364996102196, 0.20763548015334082, 0.9996071605773217, 0.9981096974839572, 0.9975303992513368, 0.1281612681358631, 0.15265026868691245, 0.6289840645512227, 0.030789883981955958, 0.0580720596621701, 0.0012991512228673402, 0.4619352483498843, 0.5371182579786778, 0.9979047093138446, 0.9977084131622851, 0.9979072319797866, 0.9969707658728134, 0.8696276630711358, 0.13002663275000523, 0.9967007328560359, 0.9979835456811231, 0.9951794576717095, 0.9986379723854697, 0.9959772660181272, 0.15767980097671078, 0.07568630446882117, 0.2557916771399975, 0.052559933658903595, 0.28872923556624375, 0.13315183193588911, 0.036441554003506495, 0.06971997859557562, 0.9297902063524716, 0.3276336569300199, 0.46704436648150693, 0.08727036459986987, 0.11833269776253541, 0.9973014512736, 0.9967041434223429, 0.9995614893471471, 0.9988857007492837, 0.13501686012016573, 0.04822030718577348, 0.23696836674151536, 0.13731306522425019, 0.16165283932754537, 0.03673928166535122, 0.20022908507616413, 0.04362789697760457, 0.847618996738795, 0.15136053513192768, 0.9962886104573979, 0.995996703320562, 0.9987235312414904, 0.996864935584317, 0.9974232435212799, 0.9972352208138777, 0.9976219019255909, 0.9984101807364271, 0.9998940831599703, 0.7899137202655614, 0.20938667710556969, 0.9990218402176336, 0.9952358505517479, 0.1145762189482063, 0.6489442989167314, 0.2358922154816012, 0.2479044157090828, 0.7511752529512676, 0.9972890956052792, 0.9981332067415983, 0.9962458353311869, 0.9984502541870612, 0.9974257743693139, 0.4499607415682877, 0.329402202630015, 0.07308194617054584, 0.1064222500804664, 0.04107525441702212, 0.9986011189053364, 0.8231741134991574, 0.17557210113093916, 0.11881699776055886, 0.17644679906957245, 0.07826269313569745, 0.26609315666137134, 0.3600083884242083, 0.9974997782227988, 0.9992544614552519, 0.20797691753109834, 0.20280102139344658, 0.04046609707618656, 0.09693041857784222, 0.15998224425469104, 0.09034291440264906, 0.20138941335590518, 0.9947930600342464, 0.9993769235854348, 0.9950456479284325, 0.9996587666153721, 0.2774944227961256, 0.4538419085984177, 0.14952155903436243, 0.11873770864493487, 0.9993815230102654, 0.9967482581556052, 0.998458323928483, 0.9956423078735671, 0.9993850737002403, 0.997567269950601, 0.5384961758875111, 0.4612719889700528, 0.9993996011474496, 0.9983353664044908, 0.9996472123520701, 0.9976860018553938, 0.9977999554351809, 0.9972433499322781, 0.997118169449755, 0.9963089521366865, 0.28274156448337046, 0.7157825921921115, 0.9953834904362847, 0.7329724993614448, 0.26554724023476073, 0.9950901147250057, 0.9969402051294196, 0.13613482123923182, 0.7886266311086727, 0.07499356819143647, 0.5687849382062913, 0.22003641467247692, 0.08213058374961534, 0.12871210886133747, 0.9966244247620012, 0.9979613633415351, 0.11040005226415123, 0.14552734162092662, 0.12617148830188712, 0.20502866849056656, 0.41149110389365456, 0.29201879933250485, 0.705873256664664, 0.9986132291216719, 0.9989024322794143, 0.9125089147276908, 0.08464832233095462, 0.994706109853108, 0.9940239061322368, 0.9993847458413881, 0.9962160964861598, 0.8422631449829215, 0.15650159788534015, 0.8264739045367955, 0.17213608692622176, 0.9982296781364767, 0.9960777903358136, 0.9948066975119391, 0.8230657638193917, 0.17528252377635192, 0.9959935510001405, 0.9968152356115679, 0.3000412513241211, 0.06795806119734368, 0.1769474046270458, 0.06218803713341827, 0.18399965626073242, 0.20836198008619525, 0.997326369868517, 0.9975017493172605, 0.9947030201906515, 0.9968051714880021, 0.9986159883270695, 0.9962226662989034, 0.996205171142228, 0.994296410381298, 0.999545326929368, 0.9993101390630049, 0.7058717886018772, 0.2927079259901982, 0.8952997132263145, 0.10404834505062575, 0.9987262482027635, 0.9995812119301956, 0.9956113233377905, 0.2479517508132735, 0.4061540948904541, 0.1470470505845589, 0.03904352722417599, 0.15921646166741898, 0.7960970071223091, 0.1193089679109031, 0.08446652595462166, 0.996460688211731, 0.16117051426239495, 0.20418082745265284, 0.4083616549053057, 0.2254496636456375, 0.7097851246939431, 0.28953938653016326, 0.9976792434985152, 0.9981702477391472, 0.9973992929457226, 0.18478361916918032, 0.7323409612660897, 0.08152218492757955, 0.6672530487162087, 0.331992702005714, 0.9990821997351518, 0.9972111363734093, 0.9986545675420762, 0.10458975229237777, 0.49982165451934985, 0.0545385507003158, 0.11839698031777417, 0.126681317133012, 0.0956150540758701, 0.12011758962173194, 0.37698142540892093, 0.08138260143752522, 0.2883604675935389, 0.014281081502258033, 0.1189438021009984, 0.9957297560157371, 0.24644536969224243, 0.7513905021595, 0.80813584094206, 0.1905360925798353, 0.996112007975028, 0.27068371637573346, 0.2509677552436618, 0.4781120574527371, 0.9965519551802777, 0.9970633206500937, 0.9996234653443243, 0.9974747701673913, 0.9966054906506343, 0.9977871107643594, 0.832613670728491, 0.16601581562470671, 0.9974846706975028, 0.1294950838227384, 0.8698460753502796, 0.9961678771832141, 0.9976889703695321, 0.996277216786753, 0.9968720003381719, 0.9961903942669518, 0.9690008723007195, 0.029792494152212745, 0.996263899438492, 0.9985383152197252, 0.21205775953688347, 0.6470227453776538, 0.1390704376497701, 0.9971229924692844, 0.9977665773901684, 0.9959892808903272, 0.9988870898155948, 0.05995114773330981, 0.9370142349428422, 0.09260420925468021, 0.2635658263402437, 0.13041302841783367, 0.06685037591166264, 0.30466236890888876, 0.06959014541623898, 0.059179021298848895, 0.013150893621966421, 0.9987469700061661, 0.996299805748791, 0.9992142335838284, 0.9930616311560397, 0.9972664375367709, 0.9971731396543556, 0.9989508358396421, 0.9967035059568662, 0.15620623999325314, 0.8414981315765573, 0.9988989509065219, 0.9993117440268138, 0.9978594599803535, 0.8918648479585937, 0.10649132512938432, 0.9968636204550234, 0.9990848032660684, 0.3265305379575071, 0.2610627815848386, 0.13234993958054897, 0.2497473669031428, 0.03030914646882801, 0.9963850444859809, 0.9962096287940262, 0.9975826466254216, 0.1460915305788575, 0.8532937969728369, 0.9980328030038965, 0.9981893611360452, 0.9981452788336067, 0.20235377372675437, 0.7970764501675812, 0.3048126311648263, 0.6941631405042724, 0.9984207236234351, 0.9977360231204531, 0.998850288148126, 0.3180628192872999, 0.681282705510451, 0.9994986238664418, 0.768628696167305, 0.2312208533711282, 0.9956502628030925, 0.9950077358446541, 0.9958677526828542, 0.9988672343679446, 0.99861531565929, 0.9956426172662804, 0.1364359862566781, 0.8627080350498488, 0.8525648122548615, 0.14716892592494632, 0.14355630091530464, 0.12147071615910392, 0.16664577588769627, 0.5671979721478819, 0.7747951481292228, 0.22451004292295615, 0.9989691158103207, 0.9983891522857669, 0.996757477039586, 0.9984891580596702, 0.11741988561397046, 0.23266532890175629, 0.2776038036429055, 0.3718296377775731, 0.9982028171959136, 0.050436722573108966, 0.14008155429976615, 0.2335919742528295, 0.14173823496822593, 0.0007363025193154593, 0.0936944955828922, 0.05724752087677697, 0.17781705841468343, 0.10455495774279523, 0.998140511938623, 0.9960996654428584, 0.9987688323609937, 0.9978277838894427, 0.994678770954784, 0.9981388876258447, 0.41712215511853595, 0.5808313880414022, 0.9974767857390776, 0.9968383860896763, 0.5382812072189811, 0.4615761351902763, 0.6484753617437968, 0.35119987608299447, 0.32567457779227965, 0.2879389843956931, 0.38555932383468877, 0.028131778900610353, 0.005626355780122071, 0.16754037211919057, 0.16691522147695478, 0.05188750330557021, 0.09877380147325414, 0.04938690073662707, 0.14503494899870228, 0.23880754533407011, 0.048136599452155496, 0.9985071847557534, 0.9948995415689306, 0.9965249712525418, 0.4127111720716965, 0.13694507073288112, 0.4496050495750754, 0.9959254261092149, 0.9975353960929615, 0.895821990448534, 0.10314541503804515, 0.9994950020471406, 0.9969412935657875, 0.7261606042240915, 0.2729792934798182, 0.9990820847675098, 0.9989159987717642, 0.9998085105323085, 0.9997449422179037, 0.9996273136380079, 0.17411050785267423, 0.4802292345054869, 0.07455613686386554, 0.12411403960278793, 0.1464808806619476, 0.9980253572295343, 0.9992081612061755, 0.9982153652219582, 0.20596687754262985, 0.7930341452689281, 0.994955636311577, 0.998318860502972, 0.9981994084342963, 0.9970326450366056, 0.9977846019454728, 0.21496751327439906, 0.12163642210188416, 0.27616822879735964, 0.38709452568272573, 0.15701817975665192, 0.04358299286021136, 0.24657227467489443, 0.054030970600672995, 0.11880843259153509, 0.06209083914331482, 0.14179398362055068, 0.17552602603975537, 0.9993469758610833, 0.1399163779711741, 0.14280125174377564, 0.2480991444437314, 0.46734955116144755, 0.8967408351522076, 0.10190236763093269, 0.8106095633667811, 0.18869095264174549, 0.9959290131536312, 0.9983723218966138, 0.9980983801118175, 0.4709451093674712, 0.5281699666633544, 0.9954710730851436, 0.9967034984703728, 0.996816984795256, 0.9983067122878599, 0.8802544624610739, 0.11918819237836825, 0.8004686187676546, 0.1992840274867017, 0.20041098251576997, 0.7987944848140405, 0.0782149906535364, 0.02133136108732811, 0.12709935981199666, 0.2675308203035734, 0.33508013041344575, 0.13391354460378202, 0.02488658793521613, 0.011850756159626727, 0.9994924953066543, 0.20488691024645345, 0.4578675036232767, 0.10518049400056484, 0.10791753287790297, 0.08641222741310346, 0.03753653317492277, 0.2288237658651907, 0.7698177023809065, 0.28608481572781364, 0.7124345168367398, 0.1388123783633911, 0.05223270793605366, 0.13754613089827464, 0.08072327590117384, 0.45806502050587666, 0.13248114103780884, 0.9997231921168093, 0.9981674161822919, 0.18218708473402062, 0.6124011412594059, 0.20473499126050831, 0.942321365297329, 0.05676634730706801, 0.6449257811284034, 0.04425157837475703, 0.18274262921427442, 0.12783789308263144], \"Term\": [\"abort\", \"abus\", \"accord\", \"accus\", \"activist\", \"activist\", \"actor\", \"actual\", \"administr\", \"advanc\", \"advertis\", \"advic\", \"advis\", \"afford\", \"african\", \"agenc\", \"ago\", \"ahead\", \"ahead\", \"aid\", \"alabama\", \"album\", \"american\", \"american\", \"american\", \"american\", \"american\", \"american\", \"ami\", \"ami\", \"analysi\", \"angel\", \"answer\", \"appeal\", \"appear\", \"appear\", \"arizona\", \"arm\", \"arrest\", \"arrest\", \"art\", \"articl\", \"artist\", \"artist\", \"assault\", \"attornei\", \"audienc\", \"august\", \"avoid\", \"avoid\", \"award\", \"bad\", \"bader\", \"bai\", \"ballot\", \"ban\", \"ban\", \"bank\", \"bar\", \"barrett\", \"basebal\", \"bedroom\", \"began\", \"benefit\", \"better\", \"better\", \"better\", \"biden\", \"biden\\u2019\", \"black\", \"black\", \"blame\", \"block\", \"blue\", \"book\", \"book\", \"box\", \"brief\", \"bring\", \"british\", \"british\", \"build\", \"build\", \"build\", \"build\", \"burn\", \"busi\", \"busi\", \"california\", \"california\", \"california\", \"call\", \"call\", \"call\", \"call\", \"call\", \"camp\", \"campaign\", \"campaign\", \"cancel\", \"cancel\", \"cancer\", \"candid\", \"capit\", \"care\", \"care\", \"career\", \"carolina\", \"case\", \"case\", \"cash\", \"catch\", \"celebr\", \"celebr\", \"chang\", \"chang\", \"chang\", \"charg\", \"check\", \"check\", \"chef\", \"chief\", \"chief\", \"child\", \"children\", \"children\", \"china\", \"china\", \"china\", \"china\", \"china\\u2019\", \"choic\", \"citi\", \"citi\", \"clash\", \"class\", \"classroom\", \"climat\", \"close\", \"close\", \"close\", \"close\", \"club\", \"coach\", \"coast\", \"colleagu\", \"colleg\", \"color\", \"com\", \"comedi\", \"comfort\", \"comment\", \"committe\", \"compani\", \"compani\", \"compani\", \"condit\", \"confirm\", \"conflict\", \"congress\", \"congression\", \"connect\", \"connect\", \"conserv\", \"contest\", \"convent\", \"convers\", \"convict\", \"cook\", \"coronaviru\", \"correct\", \"count\", \"counti\", \"countri\", \"countri\", \"countri\", \"countri\", \"coupl\", \"cours\", \"court\", \"covid\", \"creativ\", \"crisi\", \"critic\", \"critic\", \"critic\", \"critic\", \"critic\", \"crowd\", \"crucial\", \"current\", \"cut\", \"dai\", \"dai\", \"dai\", \"dai\", \"dai\", \"dai\", \"daili\", \"damag\", \"dark\", \"data\", \"date\", \"david\", \"david\", \"deal\", \"deal\", \"deal\", \"deal\", \"death\", \"death\", \"death\", \"death\", \"debat\", \"debat\", \"debut\", \"deep\", \"defeat\", \"delai\", \"deliv\", \"democraci\", \"democrat\", \"describ\", \"design\", \"design\", \"detail\", \"di\", \"di\", \"di\", \"di\", \"di\", \"di\", \"di\", \"differ\", \"differ\", \"differ\", \"differ\", \"differ\", \"difficult\", \"diseas\", \"disput\", \"distanc\", \"district\", \"divid\", \"doctor\", \"documentari\", \"dog\", \"donald\", \"don\\u2019t\", \"drama\", \"earlier\", \"easi\", \"eastern\", \"econom\", \"economi\", \"edg\", \"editor\", \"educ\", \"effect\", \"effect\", \"elect\", \"elect\", \"elector\", \"embrac\", \"employe\", \"end\", \"end\", \"end\", \"end\", \"endors\", \"enforc\", \"equal\", \"essenti\", \"estat\", \"even\", \"event\", \"excerpt\", \"expect\", \"expect\", \"expect\", \"experi\", \"experi\", \"experi\", \"expert\", \"expert\", \"face\", \"face\", \"face\", \"face\", \"face\", \"face\", \"facebook\", \"fact\", \"fall\", \"famili\", \"famili\", \"famili\", \"famili\", \"fan\", \"fashion\", \"fast\", \"fatal\", \"father\", \"favorit\", \"featur\", \"feder\", \"feel\", \"feel\", \"feel\", \"feel\", \"festiv\", \"fight\", \"fight\", \"fight\", \"fight\", \"fight\", \"fight\", \"fight\", \"fight\", \"figur\", \"figur\", \"film\", \"final\", \"final\", \"final\", \"find\", \"find\", \"florida\", \"florida\", \"floyd\", \"fly\", \"footbal\", \"forc\", \"forc\", \"forc\", \"forc\", \"foreign\", \"form\", \"fox\", \"franc\", \"franc\", \"fraud\", \"french\", \"french\", \"fridai\", \"fridai\", \"fridai\", \"friend\", \"friend\", \"game\", \"gather\", \"georg\", \"georgia\", \"get\", \"get\", \"get\", \"get\", \"get\", \"ginsburg\", \"girl\", \"good\", \"googl\", \"gov\", \"govern\", \"govern\", \"govern\", \"govern\", \"grand\", \"group\", \"group\", \"group\", \"group\", \"group\", \"group\", \"gun\", \"half\", \"hall\", \"halt\", \"hand\", \"hand\", \"hand\", \"handl\", \"happen\", \"happen\", \"happen\", \"hard\", \"hard\", \"harri\", \"harri\", \"health\", \"hear\", \"hear\", \"heat\", \"help\", \"help\", \"help\", \"help\", \"help\", \"here\\u2019\", \"hill\", \"hire\", \"home\", \"home\", \"home\", \"home\", \"home\", \"hong\", \"honor\", \"horror\", \"hospit\", \"host\", \"hotel\", \"hous\", \"hous\", \"hurrican\", \"hurt\", \"immigr\", \"incom\", \"indoor\", \"industri\", \"infect\", \"influenc\", \"inspir\", \"inspir\", \"internet\", \"interview\", \"investig\", \"investig\", \"investor\", \"iran\", \"island\", \"island\", \"island\", \"isol\", \"israel\", \"issu\", \"issu\", \"issu\", \"issu\", \"italian\", \"it\\u2019\", \"it\\u2019\", \"it\\u2019\", \"it\\u2019\", \"it\\u2019\", \"it\\u2019\", \"it\\u2019\", \"i\\u2019m\", \"jame\", \"jame\", \"jersei\", \"joe\", \"john\", \"john\", \"john\", \"john\", \"john\", \"johnson\", \"joseph\", \"journalist\", \"judg\", \"juli\", \"june\", \"justic\", \"kamala\", \"kid\", \"kill\", \"kill\", \"know\", \"kong\", \"labor\", \"lack\", \"largest\", \"late\", \"later\", \"latino\", \"law\", \"law\", \"law\", \"law\", \"lawmak\", \"lawsuit\", \"lawyer\", \"leader\", \"leader\", \"leader\", \"leader\", \"leagu\", \"learn\", \"learn\", \"legal\", \"lesson\", \"letter\", \"liber\", \"life\", \"life\", \"life\", \"life\", \"life\", \"lift\", \"like\", \"like\", \"like\", \"like\", \"like\", \"like\", \"like\", \"like\", \"list\", \"list\", \"list\", \"live\", \"live\", \"live\", \"live\", \"live\", \"live\", \"live\", \"live\", \"lo\", \"local\", \"lockdown\", \"look\", \"look\", \"look\", \"look\", \"look\", \"look\", \"look\", \"loss\", \"louisiana\", \"love\", \"lower\", \"mail\", \"main\", \"major\", \"major\", \"major\", \"major\", \"major\", \"man\", \"man\", \"map\", \"market\", \"market\", \"mask\", \"mayor\", \"mean\", \"measur\", \"media\", \"medic\", \"medic\", \"mental\", \"met\", \"miami\", \"michigan\", \"migrant\", \"mike\", \"mike\", \"militari\", \"militari\", \"million\", \"million\", \"million\", \"million\", \"million\", \"mind\", \"minist\", \"moder\", \"mondai\", \"mondai\", \"monei\", \"monei\", \"monei\", \"morn\", \"mother\", \"mother\", \"movi\", \"murder\", \"museum\", \"music\", \"mysteri\", \"nation\", \"nation\", \"nation\", \"nation\", \"nation\", \"nation\", \"near\", \"near\", \"nearli\", \"nearli\", \"nearli\", \"need\", \"netflix\", \"network\", \"new\", \"new\", \"new\", \"new\", \"new\", \"new\", \"night\", \"night\", \"nomin\", \"nomine\", \"normal\", \"novemb\", \"number\", \"number\", \"nurs\", \"obama\", \"object\", \"oct\", \"octob\", \"offer\", \"offer\", \"offer\", \"offer\", \"offer\", \"offer\", \"offer\", \"offic\", \"offic\", \"offici\", \"offici\", \"offici\", \"offici\", \"ohio\", \"oil\", \"old\", \"onlin\", \"open\", \"open\", \"open\", \"open\", \"open\", \"open\", \"open\", \"open\", \"oper\", \"oper\", \"opportun\", \"origin\", \"outbreak\", \"outdoor\", \"outsid\", \"pack\", \"paid\", \"paint\", \"pandem\", \"parent\", \"parent\", \"park\", \"part\", \"parti\", \"parti\", \"parti\", \"past\", \"past\", \"patient\", \"peac\", \"pelosi\", \"penc\", \"pennsylvania\", \"peopl\", \"peopl\", \"peopl\", \"peopl\", \"peopl\", \"percent\", \"perform\", \"perform\", \"person\", \"person\", \"person\", \"person\", \"person\", \"photograph\", \"plai\", \"plan\", \"plan\", \"plan\", \"plan\", \"plan\", \"plan\", \"plan\", \"plant\", \"player\", \"podcast\", \"polic\", \"polit\", \"polit\", \"polit\", \"polit\", \"poll\", \"popul\", \"popular\", \"portland\", \"posit\", \"predict\", \"presid\", \"presid\", \"presidenti\", \"president\\u2019\", \"primari\", \"prime\", \"print\", \"prison\", \"prize\", \"pro\", \"problem\", \"problem\", \"profession\", \"project\", \"project\", \"promot\", \"prosecutor\", \"protest\", \"protest\", \"protest\", \"public\", \"public\", \"public\", \"public\", \"puzzl\", \"quarantin\", \"question\", \"question\", \"question\", \"question\", \"question\", \"quiz\", \"quiz\", \"quotat\", \"race\", \"racial\", \"racial\", \"racist\", \"rai\", \"ralli\", \"rang\", \"rate\", \"rate\", \"read\", \"read\", \"real\", \"reason\", \"rebound\", \"receiv\", \"receiv\", \"recip\", \"recommend\", \"record\", \"record\", \"record\", \"record\", \"record\", \"record\", \"recoveri\", \"red\", \"reduc\", \"refus\", \"reject\", \"rememb\", \"remot\", \"renew\", \"reopen\", \"republican\", \"research\", \"research\", \"resid\", \"resid\", \"restrict\", \"result\", \"retail\", \"return\", \"return\", \"return\", \"return\", \"return\", \"review\", \"review\", \"review\", \"reviv\", \"right\", \"right\", \"right\", \"right\", \"risk\", \"risk\", \"road\", \"robert\", \"rock\", \"role\", \"role\", \"role\", \"rule\", \"rule\", \"russia\", \"russian\", \"ruth\", \"sai\", \"sai\", \"sai\", \"sai\", \"sai\", \"sai\", \"said\", \"said\", \"said\", \"said\", \"said\", \"said\", \"san\", \"saturdai\", \"saturdai\", \"save\", \"save\", \"schedul\", \"school\", \"school\", \"school\", \"screen\", \"search\", \"season\", \"seat\", \"secret\", \"secretari\", \"secur\", \"secur\", \"select\", \"senat\", \"senat\", \"sent\", \"sentenc\", \"separ\", \"sept\", \"septemb\", \"seri\", \"seri\", \"serv\", \"sexual\", \"share\", \"share\", \"share\", \"sheet\", \"shoot\", \"shop\", \"short\", \"shot\", \"shot\", \"show\", \"show\", \"show\", \"show\", \"show\", \"show\", \"show\", \"show\", \"shut\", \"slow\", \"social\", \"sold\", \"son\", \"sound\", \"space\", \"speaker\", \"spend\", \"spend\", \"sport\", \"spread\", \"spring\", \"staff\", \"staff\", \"stake\", \"star\", \"state\", \"state\", \"state\", \"state\", \"state\", \"state\\u2019\", \"statu\", \"stock\", \"stori\", \"stori\", \"storm\", \"stream\", \"street\", \"student\", \"student\", \"studi\", \"studi\", \"style\", \"success\", \"summer\", \"support\", \"support\", \"suprem\", \"surg\", \"surg\", \"suspect\", \"swing\", \"tale\", \"tax\", \"taylor\", \"teach\", \"team\", \"team\", \"tech\", \"tech\", \"tell\", \"tell\", \"tell\", \"tell\", \"test\", \"test\", \"texa\", \"theater\", \"theori\", \"they\\u2019r\", \"thursdai\", \"thursdai\", \"thursdai\", \"thursdai\", \"tiktok\", \"time\", \"time\", \"time\", \"time\", \"time\", \"time\", \"time\", \"time\", \"time\", \"tip\", \"titl\", \"todai\", \"toll\", \"trace\", \"trail\", \"travel\", \"travel\", \"treatment\", \"true\", \"trump\", \"trump\", \"trump\\u2019\", \"trump\\u2019\", \"tuesdai\", \"tuesdai\", \"tuesdai\", \"turn\", \"turn\", \"turn\", \"turn\", \"turn\", \"turn\", \"turn\", \"turn\", \"turn\", \"turn\", \"twitter\", \"understand\", \"unemploy\", \"unit\", \"unit\", \"unit\", \"unlik\", \"urg\", \"vaccin\", \"vaccin\", \"vice\", \"victori\", \"video\", \"video\", \"violenc\", \"virtual\", \"viru\", \"vote\", \"voter\", \"wai\", \"wai\", \"wai\", \"wai\", \"wai\", \"wall\", \"war\", \"washington\", \"watch\", \"watch\", \"water\", \"wave\", \"wear\", \"weather\", \"wed\", \"wednesdai\", \"wednesdai\", \"wednesdai\", \"wednesdai\", \"week\", \"week\", \"week\", \"week\", \"week\", \"week\", \"week\", \"week\", \"weekend\", \"week\\u2019\", \"week\\u2019\", \"week\\u2019\", \"week\\u2019\", \"what\\u2019\", \"what\\u2019\", \"white\", \"white\", \"wife\", \"wildfir\", \"william\", \"win\", \"win\", \"wind\", \"wine\", \"winner\", \"wisconsin\", \"woman\", \"woman\", \"women\", \"women\", \"word\", \"word\", \"work\", \"work\", \"work\", \"work\", \"work\", \"work\", \"work\", \"work\", \"worker\", \"world\", \"world\", \"world\", \"world\", \"world\", \"world\", \"worri\", \"worri\", \"write\", \"write\", \"year\", \"year\", \"year\", \"year\", \"year\", \"year\", \"york\", \"yorker\", \"young\", \"young\", \"young\", \"\\u2018the\", \"\\u2018the\", \"\\u201cthe\", \"\\u201cthe\", \"\\u201cthe\", \"\\u201cthe\"]}, \"R\": 30, \"lambda.step\": 0.01, \"plot.opts\": {\"xlab\": \"PC1\", \"ylab\": \"PC2\"}, \"topic.order\": [11, 4, 15, 14, 3, 7, 2, 6, 5, 9, 1, 10, 8, 12, 13]};\n",
       "\n",
       "function LDAvis_load_lib(url, callback){\n",
       "  var s = document.createElement('script');\n",
       "  s.src = url;\n",
       "  s.async = true;\n",
       "  s.onreadystatechange = s.onload = callback;\n",
       "  s.onerror = function(){console.warn(\"failed to load library \" + url);};\n",
       "  document.getElementsByTagName(\"head\")[0].appendChild(s);\n",
       "}\n",
       "\n",
       "if(typeof(LDAvis) !== \"undefined\"){\n",
       "   // already loaded: just create the visualization\n",
       "   !function(LDAvis){\n",
       "       new LDAvis(\"#\" + \"ldavis_el712418678060838888559141473\", ldavis_el712418678060838888559141473_data);\n",
       "   }(LDAvis);\n",
       "}else if(typeof define === \"function\" && define.amd){\n",
       "   // require.js is available: use it to load d3/LDAvis\n",
       "   require.config({paths: {d3: \"https://d3js.org/d3.v5\"}});\n",
       "   require([\"d3\"], function(d3){\n",
       "      window.d3 = d3;\n",
       "      LDAvis_load_lib(\"https://cdn.jsdelivr.net/gh/bmabey/pyLDAvis@3.3.1/pyLDAvis/js/ldavis.v3.0.0.js\", function(){\n",
       "        new LDAvis(\"#\" + \"ldavis_el712418678060838888559141473\", ldavis_el712418678060838888559141473_data);\n",
       "      });\n",
       "    });\n",
       "}else{\n",
       "    // require.js not available: dynamically load d3 & LDAvis\n",
       "    LDAvis_load_lib(\"https://d3js.org/d3.v5.js\", function(){\n",
       "         LDAvis_load_lib(\"https://cdn.jsdelivr.net/gh/bmabey/pyLDAvis@3.3.1/pyLDAvis/js/ldavis.v3.0.0.js\", function(){\n",
       "                 new LDAvis(\"#\" + \"ldavis_el712418678060838888559141473\", ldavis_el712418678060838888559141473_data);\n",
       "            })\n",
       "         });\n",
       "}\n",
       "</script>"
      ],
      "text/plain": [
       "PreparedData(topic_coordinates=              x         y  topics  cluster       Freq\n",
       "topic                                                \n",
       "10     0.016063  0.103098       1        1  10.941664\n",
       "3      0.233655  0.138476       2        1   9.981754\n",
       "14    -0.154990  0.086789       3        1   9.213369\n",
       "13    -0.148622 -0.021405       4        1   7.622266\n",
       "2     -0.136364  0.094666       5        1   7.101315\n",
       "6      0.116331  0.081717       6        1   6.726339\n",
       "1      0.180734  0.094659       7        1   6.621421\n",
       "5      0.176043 -0.085286       8        1   6.322212\n",
       "4     -0.150062  0.009253       9        1   5.890266\n",
       "8      0.029304  0.069592      10        1   5.847082\n",
       "0     -0.178474 -0.061587      11        1   5.474684\n",
       "9     -0.119159  0.014230      12        1   5.208904\n",
       "7      0.026303  0.052189      13        1   5.122275\n",
       "11     0.036349 -0.226079      14        1   4.124310\n",
       "12     0.072891 -0.350311      15        1   3.802137, topic_info=            Term          Freq         Total Category  logprob  loglift\n",
       "21           new  15394.000000  15394.000000  Default  30.0000  30.0000\n",
       "504        trump  10403.000000  10403.000000  Default  29.0000  29.0000\n",
       "5246  coronaviru   8681.000000   8681.000000  Default  28.0000  28.0000\n",
       "9947      pandem   6589.000000   6589.000000  Default  27.0000  27.0000\n",
       "831       presid   7717.000000   7717.000000  Default  26.0000  26.0000\n",
       "...          ...           ...           ...      ...      ...      ...\n",
       "672          dai    970.211623   4915.626051  Topic15  -3.8244   1.6469\n",
       "147    wednesdai    505.635377   1307.174260  Topic15  -4.4761   2.3198\n",
       "537     thursdai    513.189135   1379.664093  Topic15  -4.4613   2.2807\n",
       "2564     tuesdai    470.201263   1219.008259  Topic15  -4.5487   2.3170\n",
       "1840       week’    324.403404    693.271234  Topic15  -4.9199   2.5102\n",
       "\n",
       "[738 rows x 6 columns], token_table=      Topic      Freq      Term\n",
       "term                           \n",
       "2486     10  0.997190     abort\n",
       "203       8  0.997863      abus\n",
       "1878      2  0.998452    accord\n",
       "58        8  0.999377     accus\n",
       "5265      7  0.112156  activist\n",
       "...     ...       ...       ...\n",
       "465       4  0.056766      ‘the\n",
       "1004      3  0.644926      “the\n",
       "1004      6  0.044252      “the\n",
       "1004      9  0.182743      “the\n",
       "1004     12  0.127838      “the\n",
       "\n",
       "[1069 rows x 3 columns], R=30, lambda_step=0.01, plot_opts={'xlab': 'PC1', 'ylab': 'PC2'}, topic_order=[11, 4, 15, 14, 3, 7, 2, 6, 5, 9, 1, 10, 8, 12, 13])"
      ]
     },
     "execution_count": 48,
     "metadata": {},
     "output_type": "execute_result"
    }
   ],
   "source": [
    "import pyLDAvis\n",
    "import pyLDAvis.gensim_models\n",
    "\n",
    "pyLDAvis.enable_notebook()\n",
    "vis = pyLDAvis.gensim_models.prepare(ldamodel, corpus, dictionary)\n",
    "vis"
   ]
  },
  {
   "cell_type": "code",
   "execution_count": 49,
   "metadata": {},
   "outputs": [
    {
     "name": "stderr",
     "output_type": "stream",
     "text": [
      "C:\\Users\\vidiyalaramya\\anaconda3\\lib\\site-packages\\ipykernel\\ipkernel.py:287: DeprecationWarning: `should_run_async` will not call `transform_cell` automatically in the future. Please pass the result to `transformed_cell` argument and any exception that happen during thetransform in `preprocessing_exc_tuple` in IPython 7.17 and above.\n",
      "  and should_run_async(code)\n"
     ]
    }
   ],
   "source": [
    "#p = pyLDAvis.gensim.prepare(topic_model, corpus, dictionary)\n",
    "pyLDAvis.save_html(vis, 'lda.html')"
   ]
  },
  {
   "cell_type": "code",
   "execution_count": 50,
   "metadata": {},
   "outputs": [
    {
     "name": "stderr",
     "output_type": "stream",
     "text": [
      "C:\\Users\\vidiyalaramya\\anaconda3\\lib\\site-packages\\ipykernel\\ipkernel.py:287: DeprecationWarning: `should_run_async` will not call `transform_cell` automatically in the future. Please pass the result to `transformed_cell` argument and any exception that happen during thetransform in `preprocessing_exc_tuple` in IPython 7.17 and above.\n",
      "  and should_run_async(code)\n"
     ]
    },
    {
     "ename": "OSError",
     "evalue": "[Errno 22] Invalid argument: 'https://cdn.jsdelivr.net/gh/bmabey/pyLDAvis@3.3.1/pyLDAvis/js/ldavis.v1.0.0.css'",
     "output_type": "error",
     "traceback": [
      "\u001b[1;31m---------------------------------------------------------------------------\u001b[0m",
      "\u001b[1;31mOSError\u001b[0m                                   Traceback (most recent call last)",
      "\u001b[1;32m<ipython-input-50-49d24941de54>\u001b[0m in \u001b[0;36m<module>\u001b[1;34m\u001b[0m\n\u001b[1;32m----> 1\u001b[1;33m \u001b[0mpyLDAvis\u001b[0m\u001b[1;33m.\u001b[0m\u001b[0mshow\u001b[0m\u001b[1;33m(\u001b[0m\u001b[0mvis\u001b[0m\u001b[1;33m)\u001b[0m\u001b[1;33m\u001b[0m\u001b[1;33m\u001b[0m\u001b[0m\n\u001b[0m",
      "\u001b[1;32m~\\anaconda3\\lib\\site-packages\\pyLDAvis\\_display.py\u001b[0m in \u001b[0;36mshow\u001b[1;34m(data, ip, port, n_retries, local, open_browser, http_server, **kwargs)\u001b[0m\n\u001b[0;32m    260\u001b[0m         \u001b[0mkwargs\u001b[0m\u001b[1;33m[\u001b[0m\u001b[1;34m'ldavis_css_url'\u001b[0m\u001b[1;33m]\u001b[0m \u001b[1;33m=\u001b[0m \u001b[0murls\u001b[0m\u001b[1;33m.\u001b[0m\u001b[0mLDAVIS_CSS_URL\u001b[0m\u001b[1;33m\u001b[0m\u001b[1;33m\u001b[0m\u001b[0m\n\u001b[0;32m    261\u001b[0m         files = {'/LDAvis.js': [\"text/javascript\", open(urls.LDAVIS_LOCAL, 'r').read()],\n\u001b[1;32m--> 262\u001b[1;33m                  \u001b[1;34m'/LDAvis.css'\u001b[0m\u001b[1;33m:\u001b[0m \u001b[1;33m[\u001b[0m\u001b[1;34m\"text/css\"\u001b[0m\u001b[1;33m,\u001b[0m \u001b[0mopen\u001b[0m\u001b[1;33m(\u001b[0m\u001b[0murls\u001b[0m\u001b[1;33m.\u001b[0m\u001b[0mLDAVIS_CSS_URL\u001b[0m\u001b[1;33m,\u001b[0m \u001b[1;34m'r'\u001b[0m\u001b[1;33m)\u001b[0m\u001b[1;33m.\u001b[0m\u001b[0mread\u001b[0m\u001b[1;33m(\u001b[0m\u001b[1;33m)\u001b[0m\u001b[1;33m]\u001b[0m\u001b[1;33m,\u001b[0m\u001b[1;33m\u001b[0m\u001b[1;33m\u001b[0m\u001b[0m\n\u001b[0m\u001b[0;32m    263\u001b[0m                  '/d3.js': [\"text/javascript\", open(urls.D3_URL, 'r').read()]}\n\u001b[0;32m    264\u001b[0m     \u001b[0mhtml\u001b[0m \u001b[1;33m=\u001b[0m \u001b[0mprepared_data_to_html\u001b[0m\u001b[1;33m(\u001b[0m\u001b[0mdata\u001b[0m\u001b[1;33m,\u001b[0m \u001b[1;33m**\u001b[0m\u001b[0mkwargs\u001b[0m\u001b[1;33m)\u001b[0m\u001b[1;33m\u001b[0m\u001b[1;33m\u001b[0m\u001b[0m\n",
      "\u001b[1;31mOSError\u001b[0m: [Errno 22] Invalid argument: 'https://cdn.jsdelivr.net/gh/bmabey/pyLDAvis@3.3.1/pyLDAvis/js/ldavis.v1.0.0.css'"
     ]
    }
   ],
   "source": [
    "pyLDAvis.show(vis)"
   ]
  },
  {
   "cell_type": "code",
   "execution_count": null,
   "metadata": {},
   "outputs": [],
   "source": []
  }
 ],
 "metadata": {
  "kernelspec": {
   "display_name": "Python 3",
   "language": "python",
   "name": "python3"
  },
  "language_info": {
   "codemirror_mode": {
    "name": "ipython",
    "version": 3
   },
   "file_extension": ".py",
   "mimetype": "text/x-python",
   "name": "python",
   "nbconvert_exporter": "python",
   "pygments_lexer": "ipython3",
   "version": "3.8.5"
  }
 },
 "nbformat": 4,
 "nbformat_minor": 4
}
